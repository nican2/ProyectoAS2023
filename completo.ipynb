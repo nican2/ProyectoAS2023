{
 "cells": [
  {
   "cell_type": "code",
   "execution_count": 5,
   "metadata": {},
   "outputs": [],
   "source": [
    "import pandas as pd\n",
    "import numpy as np\n",
    "import os\n",
    "import matplotlib.pyplot as plt\n",
    "%matplotlib inline\n",
    "from random import randint\n",
    "import librosa\n",
    "import librosa.display\n",
    "import IPython.display as ipd\n",
    "from IPython.display  import Audio\n",
    "from sklearn import preprocessing\n",
    "import seaborn as sns\n",
    "import missingno as msno\n",
    "import plotly.graph_objects as go"
   ]
  },
  {
   "cell_type": "markdown",
   "metadata": {},
   "source": [
    "### Feature Selection"
   ]
  },
  {
   "cell_type": "code",
   "execution_count": 24,
   "metadata": {},
   "outputs": [],
   "source": [
    "# Código Nicolás: he tratado de hacer que se extraigan las caracteríscas en ventanas de 10 ms\n",
    "def normalize(x, axis = 0):\n",
    "    return preprocessing.minmax_scale(x, axis = axis)\n",
    "\n",
    "def extrae_var(cancion):\n",
    "\n",
    "    # Obtener la muestra de audio (samples) y el tamaño de la ventana(sr)\n",
    "    samples, sr = librosa.load(cancion)\n",
    "\n",
    "    features = [cancion]\n",
    "\n",
    "    # Configuración para ventanas de 10 ms\n",
    "    frame_length = 512  # 20 ms en muestras (20 y algo para que sea múltiplo de 2)\n",
    "    hop_length = 64  # Salto de 10 ms (10 y algo para que sea múltiplo de 2)\n",
    "\n",
    "    # Tempo\n",
    "    onset_env = librosa.onset.onset_strength(y=samples, sr=sr, hop_length = hop_length, n_fft=frame_length)\n",
    "    tempo, _ = librosa.beat.beat_track(onset_envelope=onset_env, sr=sr)\n",
    "    features.append(tempo)\n",
    "\n",
    "    # Espectrograma\n",
    "    spectrogram = np.abs(librosa.stft(samples, hop_length=hop_length, n_fft=frame_length))\n",
    "    features.append(np.median(spectrogram))\n",
    "\n",
    "    # Mel Spectogram\n",
    "    mel_spectogram = librosa.feature.melspectrogram(y=samples, sr=sr, n_fft=frame_length, hop_length=hop_length, n_mels=128)\n",
    "    features.append(np.median(mel_spectogram))\n",
    "\n",
    "    # Media de la energía en cada ventana de 10 ms\n",
    "    rms = librosa.feature.rms(y=samples, hop_length = hop_length, frame_length=frame_length)[0]\n",
    "    features.append(np.median(rms))\n",
    "\n",
    "    # Centroides espectrales\n",
    "    spectral_centroids = librosa.feature.spectral_centroid(y=samples, sr=sr, hop_length = hop_length, n_fft=frame_length)[0]\n",
    "    features.append(np.median(spectral_centroids))\n",
    "\n",
    "    # Ancho de banda de frecuencia\n",
    "    spectral_bandwidth = librosa.feature.spectral_bandwidth(y=samples, sr=sr, hop_length = hop_length, n_fft=frame_length)[0]\n",
    "    features.append(np.median(spectral_bandwidth))\n",
    "\n",
    "    # Spectral Rolloff\n",
    "    spectral_rolloff = librosa.feature.spectral_rolloff(y=samples + 0.01, sr=sr, hop_length = hop_length, n_fft=frame_length)[0]\n",
    "    features.append(np.median(spectral_rolloff))\n",
    "\n",
    "    # Tonnetz\n",
    "    tonnetz = librosa.feature.tonnetz(y=librosa.effects.harmonic(samples), sr=sr)\n",
    "    features.append(np.median(tonnetz))\n",
    "\n",
    "    # ZCR\n",
    "    zero_crossings= librosa.feature.zero_crossing_rate(y=samples, frame_length=frame_length, hop_length=hop_length)[0]\n",
    "    features.append(np.median(zero_crossings))\n",
    "\n",
    "    # Cromatica\n",
    "    cromatica = librosa.feature.chroma_stft(y=samples, sr=sr, hop_length = hop_length, n_fft=frame_length)[0]\n",
    "    features.append(np.median(cromatica))\n",
    "\n",
    "    # TEMPOGRAMA\n",
    "    tempograma = librosa.feature.tempogram(onset_envelope = onset_env, sr = sr, hop_length = hop_length, win_length=frame_length)[0]\n",
    "\n",
    "    # Auto-correlation\n",
    "    auto_c = librosa.autocorrelate(onset_env, max_size = tempograma.shape[0])\n",
    "    auto_c = librosa.util.normalize(auto_c)\n",
    "    features.append(np.median(auto_c))\n",
    "\n",
    "    # MFCCS\n",
    "    mfccs = librosa.feature.mfcc(y = samples, sr = sr, n_mfcc=20)\n",
    "    \n",
    "    columnas = ['archivo', 'tempo', 'spectrogram', 'mel_spectrogram', 'rms', 'spectral_centroids', 'spectral_bandwith', 'spectral_rf', 'tonnetz', 'zero_crossings', \"cromatica\", \"auto-correlation\"]\n",
    "\n",
    "    for x in range(1, 21):\n",
    "        columnas.append(f'mfcc_{x}')\n",
    "\n",
    "    features.extend([np.median(m) for m in mfccs])\n",
    "\n",
    "    df = pd.DataFrame(columns=columnas)\n",
    "\n",
    "    # Fila de datos\n",
    "    df.loc[len(df)] = features\n",
    "\n",
    "    return df"
   ]
  },
  {
   "cell_type": "code",
   "execution_count": 25,
   "metadata": {},
   "outputs": [
    {
     "name": "stdout",
     "output_type": "stream",
     "text": [
      "Procesando canciones de: jazz\n",
      "Procesando canciones de: opera\n"
     ]
    },
    {
     "ename": "KeyboardInterrupt",
     "evalue": "",
     "output_type": "error",
     "traceback": [
      "\u001b[1;31m---------------------------------------------------------------------------\u001b[0m",
      "\u001b[1;31mKeyboardInterrupt\u001b[0m                         Traceback (most recent call last)",
      "\u001b[1;32mc:\\Users\\nicol\\OneDrive\\Escritorio\\MCD_23_24\\Análisis de señales\\Proyecto\\ProyectoAS2023\\completo.ipynb Cell 4\u001b[0m line \u001b[0;36m8\n\u001b[0;32m      <a href='vscode-notebook-cell:/c%3A/Users/nicol/OneDrive/Escritorio/MCD_23_24/An%C3%A1lisis%20de%20se%C3%B1ales/Proyecto/ProyectoAS2023/completo.ipynb#W4sZmlsZQ%3D%3D?line=5'>6</a>\u001b[0m \u001b[39mif\u001b[39;00m archivo\u001b[39m.\u001b[39mendswith(\u001b[39m'\u001b[39m\u001b[39m.mp3\u001b[39m\u001b[39m'\u001b[39m):\n\u001b[0;32m      <a href='vscode-notebook-cell:/c%3A/Users/nicol/OneDrive/Escritorio/MCD_23_24/An%C3%A1lisis%20de%20se%C3%B1ales/Proyecto/ProyectoAS2023/completo.ipynb#W4sZmlsZQ%3D%3D?line=6'>7</a>\u001b[0m     cancion\u001b[39m=\u001b[39m\u001b[39m'\u001b[39m\u001b[39mdata/\u001b[39m\u001b[39m'\u001b[39m\u001b[39m+\u001b[39msubcarpeta \u001b[39m+\u001b[39m\u001b[39m'\u001b[39m\u001b[39m/\u001b[39m\u001b[39m'\u001b[39m\u001b[39m+\u001b[39marchivo\n\u001b[1;32m----> <a href='vscode-notebook-cell:/c%3A/Users/nicol/OneDrive/Escritorio/MCD_23_24/An%C3%A1lisis%20de%20se%C3%B1ales/Proyecto/ProyectoAS2023/completo.ipynb#W4sZmlsZQ%3D%3D?line=7'>8</a>\u001b[0m     df\u001b[39m=\u001b[39mextrae_var(cancion)\n\u001b[0;32m      <a href='vscode-notebook-cell:/c%3A/Users/nicol/OneDrive/Escritorio/MCD_23_24/An%C3%A1lisis%20de%20se%C3%B1ales/Proyecto/ProyectoAS2023/completo.ipynb#W4sZmlsZQ%3D%3D?line=8'>9</a>\u001b[0m     df[\u001b[39m'\u001b[39m\u001b[39mGenero_label\u001b[39m\u001b[39m'\u001b[39m]\u001b[39m=\u001b[39mi \u001b[39m#genera una etiqueta numerica para entrenamiento de modelo\u001b[39;00m\n\u001b[0;32m     <a href='vscode-notebook-cell:/c%3A/Users/nicol/OneDrive/Escritorio/MCD_23_24/An%C3%A1lisis%20de%20se%C3%B1ales/Proyecto/ProyectoAS2023/completo.ipynb#W4sZmlsZQ%3D%3D?line=9'>10</a>\u001b[0m     df[\u001b[39m'\u001b[39m\u001b[39mGenero\u001b[39m\u001b[39m'\u001b[39m]\u001b[39m=\u001b[39msubcarpeta \u001b[39m#genera etiqueta de nombre para las resententaciones\u001b[39;00m\n",
      "\u001b[1;32mc:\\Users\\nicol\\OneDrive\\Escritorio\\MCD_23_24\\Análisis de señales\\Proyecto\\ProyectoAS2023\\completo.ipynb Cell 4\u001b[0m line \u001b[0;36m5\n\u001b[0;32m     <a href='vscode-notebook-cell:/c%3A/Users/nicol/OneDrive/Escritorio/MCD_23_24/An%C3%A1lisis%20de%20se%C3%B1ales/Proyecto/ProyectoAS2023/completo.ipynb#W4sZmlsZQ%3D%3D?line=49'>50</a>\u001b[0m features\u001b[39m.\u001b[39mappend(np\u001b[39m.\u001b[39mmedian(cromatica))\n\u001b[0;32m     <a href='vscode-notebook-cell:/c%3A/Users/nicol/OneDrive/Escritorio/MCD_23_24/An%C3%A1lisis%20de%20se%C3%B1ales/Proyecto/ProyectoAS2023/completo.ipynb#W4sZmlsZQ%3D%3D?line=51'>52</a>\u001b[0m \u001b[39m# TEMPOGRAMA\u001b[39;00m\n\u001b[1;32m---> <a href='vscode-notebook-cell:/c%3A/Users/nicol/OneDrive/Escritorio/MCD_23_24/An%C3%A1lisis%20de%20se%C3%B1ales/Proyecto/ProyectoAS2023/completo.ipynb#W4sZmlsZQ%3D%3D?line=52'>53</a>\u001b[0m tempograma \u001b[39m=\u001b[39m librosa\u001b[39m.\u001b[39;49mfeature\u001b[39m.\u001b[39;49mtempogram(onset_envelope \u001b[39m=\u001b[39;49m onset_env, sr \u001b[39m=\u001b[39;49m sr, hop_length \u001b[39m=\u001b[39;49m hop_length, win_length\u001b[39m=\u001b[39;49mframe_length)[\u001b[39m0\u001b[39m]\n\u001b[0;32m     <a href='vscode-notebook-cell:/c%3A/Users/nicol/OneDrive/Escritorio/MCD_23_24/An%C3%A1lisis%20de%20se%C3%B1ales/Proyecto/ProyectoAS2023/completo.ipynb#W4sZmlsZQ%3D%3D?line=54'>55</a>\u001b[0m \u001b[39m# Auto-correlation\u001b[39;00m\n\u001b[0;32m     <a href='vscode-notebook-cell:/c%3A/Users/nicol/OneDrive/Escritorio/MCD_23_24/An%C3%A1lisis%20de%20se%C3%B1ales/Proyecto/ProyectoAS2023/completo.ipynb#W4sZmlsZQ%3D%3D?line=55'>56</a>\u001b[0m auto_c \u001b[39m=\u001b[39m librosa\u001b[39m.\u001b[39mautocorrelate(onset_env, max_size \u001b[39m=\u001b[39m tempograma\u001b[39m.\u001b[39mshape[\u001b[39m0\u001b[39m])\n",
      "File \u001b[1;32mc:\\Users\\nicol\\AppData\\Local\\Programs\\Python\\Python311\\Lib\\site-packages\\librosa\\feature\\rhythm.py:175\u001b[0m, in \u001b[0;36mtempogram\u001b[1;34m(y, sr, onset_envelope, hop_length, win_length, center, window, norm)\u001b[0m\n\u001b[0;32m    171\u001b[0m ac_window \u001b[39m=\u001b[39m util\u001b[39m.\u001b[39mexpand_to(ac_window, ndim\u001b[39m=\u001b[39modf_frame\u001b[39m.\u001b[39mndim, axes\u001b[39m=\u001b[39m\u001b[39m-\u001b[39m\u001b[39m2\u001b[39m)\n\u001b[0;32m    173\u001b[0m \u001b[39m# Window, autocorrelate, and normalize\u001b[39;00m\n\u001b[0;32m    174\u001b[0m \u001b[39mreturn\u001b[39;00m util\u001b[39m.\u001b[39mnormalize(\n\u001b[1;32m--> 175\u001b[0m     autocorrelate(odf_frame \u001b[39m*\u001b[39;49m ac_window, axis\u001b[39m=\u001b[39;49m\u001b[39m-\u001b[39;49m\u001b[39m2\u001b[39;49m), norm\u001b[39m=\u001b[39mnorm, axis\u001b[39m=\u001b[39m\u001b[39m-\u001b[39m\u001b[39m2\u001b[39m\n\u001b[0;32m    176\u001b[0m )\n",
      "File \u001b[1;32mc:\\Users\\nicol\\AppData\\Local\\Programs\\Python\\Python311\\Lib\\site-packages\\librosa\\core\\audio.py:929\u001b[0m, in \u001b[0;36mautocorrelate\u001b[1;34m(y, max_size, axis)\u001b[0m\n\u001b[0;32m    925\u001b[0m     autocorr \u001b[39m=\u001b[39m fft\u001b[39m.\u001b[39mifft(powspec, n\u001b[39m=\u001b[39mn_pad, axis\u001b[39m=\u001b[39maxis)\n\u001b[0;32m    926\u001b[0m \u001b[39melse\u001b[39;00m:\n\u001b[0;32m    927\u001b[0m     \u001b[39m# Compute the power spectrum along the chosen axis\u001b[39;00m\n\u001b[0;32m    928\u001b[0m     \u001b[39m# Pad out the signal to support full-length auto-correlation.\u001b[39;00m\n\u001b[1;32m--> 929\u001b[0m     powspec \u001b[39m=\u001b[39m util\u001b[39m.\u001b[39mabs2(fft\u001b[39m.\u001b[39;49mrfft(y, n\u001b[39m=\u001b[39;49mn_pad, axis\u001b[39m=\u001b[39;49maxis))\n\u001b[0;32m    931\u001b[0m     \u001b[39m# Convert back to time domain\u001b[39;00m\n\u001b[0;32m    932\u001b[0m     autocorr \u001b[39m=\u001b[39m fft\u001b[39m.\u001b[39mirfft(powspec, n\u001b[39m=\u001b[39mn_pad, axis\u001b[39m=\u001b[39maxis)\n",
      "File \u001b[1;32m<__array_function__ internals>:200\u001b[0m, in \u001b[0;36mrfft\u001b[1;34m(*args, **kwargs)\u001b[0m\n",
      "File \u001b[1;32mc:\\Users\\nicol\\AppData\\Local\\Programs\\Python\\Python311\\Lib\\site-packages\\numpy\\fft\\_pocketfft.py:409\u001b[0m, in \u001b[0;36mrfft\u001b[1;34m(a, n, axis, norm)\u001b[0m\n\u001b[0;32m    407\u001b[0m     n \u001b[39m=\u001b[39m a\u001b[39m.\u001b[39mshape[axis]\n\u001b[0;32m    408\u001b[0m inv_norm \u001b[39m=\u001b[39m _get_forward_norm(n, norm)\n\u001b[1;32m--> 409\u001b[0m output \u001b[39m=\u001b[39m _raw_fft(a, n, axis, \u001b[39mTrue\u001b[39;49;00m, \u001b[39mTrue\u001b[39;49;00m, inv_norm)\n\u001b[0;32m    410\u001b[0m \u001b[39mreturn\u001b[39;00m output\n",
      "File \u001b[1;32mc:\\Users\\nicol\\AppData\\Local\\Programs\\Python\\Python311\\Lib\\site-packages\\numpy\\fft\\_pocketfft.py:73\u001b[0m, in \u001b[0;36m_raw_fft\u001b[1;34m(a, n, axis, is_real, is_forward, inv_norm)\u001b[0m\n\u001b[0;32m     71\u001b[0m \u001b[39melse\u001b[39;00m:\n\u001b[0;32m     72\u001b[0m     a \u001b[39m=\u001b[39m swapaxes(a, axis, \u001b[39m-\u001b[39m\u001b[39m1\u001b[39m)\n\u001b[1;32m---> 73\u001b[0m     r \u001b[39m=\u001b[39m pfi\u001b[39m.\u001b[39;49mexecute(a, is_real, is_forward, fct)\n\u001b[0;32m     74\u001b[0m     r \u001b[39m=\u001b[39m swapaxes(r, axis, \u001b[39m-\u001b[39m\u001b[39m1\u001b[39m)\n\u001b[0;32m     75\u001b[0m \u001b[39mreturn\u001b[39;00m r\n",
      "\u001b[1;31mKeyboardInterrupt\u001b[0m: "
     ]
    }
   ],
   "source": [
    "df_t=pd.DataFrame()\n",
    "i=0\n",
    "for subcarpeta in os.listdir('data'):\n",
    "    print(\"Procesando canciones de:\", subcarpeta)\n",
    "    for archivo in os.listdir('data/'+subcarpeta):\n",
    "        if archivo.endswith('.mp3'):\n",
    "            cancion='data/'+subcarpeta +'/'+archivo\n",
    "            df=extrae_var(cancion)\n",
    "            df['Genero_label']=i #genera una etiqueta numerica para entrenamiento de modelo\n",
    "            df['Genero']=subcarpeta #genera etiqueta de nombre para las resententaciones\n",
    "            df_t=pd.concat([df_t,df])\n",
    "            \n",
    "    i=i+1\n",
    "df_t.reset_index(drop=True,inplace=True)"
   ]
  },
  {
   "cell_type": "code",
   "execution_count": 22,
   "metadata": {},
   "outputs": [
    {
     "data": {
      "text/html": [
       "<div>\n",
       "<style scoped>\n",
       "    .dataframe tbody tr th:only-of-type {\n",
       "        vertical-align: middle;\n",
       "    }\n",
       "\n",
       "    .dataframe tbody tr th {\n",
       "        vertical-align: top;\n",
       "    }\n",
       "\n",
       "    .dataframe thead th {\n",
       "        text-align: right;\n",
       "    }\n",
       "</style>\n",
       "<table border=\"1\" class=\"dataframe\">\n",
       "  <thead>\n",
       "    <tr style=\"text-align: right;\">\n",
       "      <th></th>\n",
       "      <th>archivo</th>\n",
       "      <th>tempo</th>\n",
       "      <th>rms</th>\n",
       "      <th>spectral_centroids</th>\n",
       "      <th>spectral_bandwith</th>\n",
       "      <th>spectral_rf</th>\n",
       "      <th>tonnetz</th>\n",
       "      <th>zero_crossings</th>\n",
       "      <th>cromatica</th>\n",
       "      <th>auto-correlation</th>\n",
       "      <th>...</th>\n",
       "      <th>mfcc_13</th>\n",
       "      <th>mfcc_14</th>\n",
       "      <th>mfcc_15</th>\n",
       "      <th>mfcc_16</th>\n",
       "      <th>mfcc_17</th>\n",
       "      <th>mfcc_18</th>\n",
       "      <th>mfcc_19</th>\n",
       "      <th>mfcc_20</th>\n",
       "      <th>Genero_label</th>\n",
       "      <th>Genero</th>\n",
       "    </tr>\n",
       "  </thead>\n",
       "  <tbody>\n",
       "    <tr>\n",
       "      <th>0</th>\n",
       "      <td>data/jazz/Body And Soul (2008 Remastered)_4LnE...</td>\n",
       "      <td>123.046875</td>\n",
       "      <td>0.092547</td>\n",
       "      <td>1092.073</td>\n",
       "      <td>1367.988176</td>\n",
       "      <td>1894.921875</td>\n",
       "      <td>0.024475</td>\n",
       "      <td>0.058594</td>\n",
       "      <td>0.409816</td>\n",
       "      <td>0.451008</td>\n",
       "      <td>...</td>\n",
       "      <td>-5.664621</td>\n",
       "      <td>-2.206847</td>\n",
       "      <td>-5.13887</td>\n",
       "      <td>-0.625633</td>\n",
       "      <td>-1.046974</td>\n",
       "      <td>-0.461257</td>\n",
       "      <td>-2.62639</td>\n",
       "      <td>-1.1192</td>\n",
       "      <td>0</td>\n",
       "      <td>jazz</td>\n",
       "    </tr>\n",
       "  </tbody>\n",
       "</table>\n",
       "<p>1 rows × 32 columns</p>\n",
       "</div>"
      ],
      "text/plain": [
       "                                             archivo       tempo       rms  \\\n",
       "0  data/jazz/Body And Soul (2008 Remastered)_4LnE...  123.046875  0.092547   \n",
       "\n",
       "   spectral_centroids  spectral_bandwith  spectral_rf   tonnetz  \\\n",
       "0            1092.073        1367.988176  1894.921875  0.024475   \n",
       "\n",
       "   zero_crossings  cromatica  auto-correlation  ...   mfcc_13   mfcc_14  \\\n",
       "0        0.058594   0.409816          0.451008  ... -5.664621 -2.206847   \n",
       "\n",
       "   mfcc_15   mfcc_16   mfcc_17   mfcc_18  mfcc_19  mfcc_20  Genero_label  \\\n",
       "0 -5.13887 -0.625633 -1.046974 -0.461257 -2.62639  -1.1192             0   \n",
       "\n",
       "   Genero  \n",
       "0    jazz  \n",
       "\n",
       "[1 rows x 32 columns]"
      ]
     },
     "execution_count": 22,
     "metadata": {},
     "output_type": "execute_result"
    }
   ],
   "source": [
    "df_t"
   ]
  },
  {
   "cell_type": "code",
   "execution_count": 65,
   "metadata": {},
   "outputs": [],
   "source": [
    "# Si quereis usar datos escalados\n",
    "\n",
    "\n",
    "from sklearn.preprocessing import StandardScaler\n",
    "from sklearn.model_selection import train_test_split\n",
    "\n",
    "#dataset escalado y separado en train y test para entrenar modelos.\n",
    "df2=df_t.drop(['archivo','Genero','Genero_label'], axis=1).copy()\n",
    "scaler=StandardScaler()\n",
    "df_scaled=scaler.fit_transform(df2)\n",
    "df_scaled=pd.DataFrame(df_scaled, columns=df2.columns.to_list())\n",
    "df_scaled['archivo']=df_t['archivo']\n",
    "df_scaled['Genero']=df_t['Genero']\n",
    "df_scaled['Genero_label']=df_t['Genero_label'] \n",
    "df_train,df_test=train_test_split(df_scaled,test_size=0.2,random_state=123, stratify=df_scaled['Genero_label'])\n",
    "X_train=df_train.drop(['archivo','Genero','Genero_label'], axis=1).copy()\n",
    "y_train=df_train['Genero_label']\n",
    "X_test=df_test.drop(['archivo','Genero','Genero_label'], axis=1).copy()\n",
    "y_test=df_test['Genero_label']\n",
    "\n",
    "#dataset escalado para cluster kmeans o jerarquico\n",
    "df_cluster=df_scaled.drop(['archivo','Genero','Genero_label'], axis=1).copy() \n"
   ]
  },
  {
   "cell_type": "code",
   "execution_count": null,
   "metadata": {},
   "outputs": [],
   "source": [
    "# Si quereis usar datos NO escalados\n",
    "\n",
    "\n",
    "from sklearn.preprocessing import StandardScaler\n",
    "from sklearn.model_selection import train_test_split\n",
    "\n",
    "#dataset NO escalado y separado en train y test para entrenar modelos.\n",
    "df_train,df_test=train_test_split(df_t,test_size=0.2,random_state=123, stratify=df_t['Genero_label'])\n",
    "X_train=df_train.drop(['archivo','Genero','Genero_label'], axis=1).copy()\n",
    "y_train=df_train['Genero_label']\n",
    "X_test=df_test.drop(['archivo','Genero','Genero_label'], axis=1).copy()\n",
    "y_test=df_test['Genero_label']\n",
    "\n",
    "\n",
    "\n",
    "#dataset NO escalado para cluster kmeans o jerarquico\n",
    "df_cluster=df_t.drop(['archivo','Genero','Genero_label'], axis=1).copy() "
   ]
  },
  {
   "cell_type": "markdown",
   "metadata": {},
   "source": [
    "### PCA"
   ]
  },
  {
   "cell_type": "markdown",
   "metadata": {},
   "source": [
    "#### Obtención de valores y vectores propios para poder entender que variables són más influyentes en el dataset"
   ]
  },
  {
   "cell_type": "code",
   "execution_count": 66,
   "metadata": {},
   "outputs": [
    {
     "name": "stdout",
     "output_type": "stream",
     "text": [
      "La longitud del Vector Propio es: 1.0\n",
      "La longitud del Vector Propio es: 0.9999999999999998\n",
      "La longitud del Vector Propio es: 0.9999999999999998\n",
      "La longitud del Vector Propio es: 0.999999999999998\n",
      "La longitud del Vector Propio es: 0.9999999999999992\n",
      "La longitud del Vector Propio es: 1.0000000000000007\n",
      "La longitud del Vector Propio es: 1.0000000000000018\n",
      "La longitud del Vector Propio es: 1.0000000000000009\n",
      "La longitud del Vector Propio es: 1.0000000000000002\n",
      "La longitud del Vector Propio es: 1.000000000000001\n",
      "La longitud del Vector Propio es: 1.0000000000000002\n",
      "La longitud del Vector Propio es: 0.9999999999999994\n",
      "La longitud del Vector Propio es: 1.0000000000000002\n",
      "La longitud del Vector Propio es: 0.9999999999999982\n",
      "La longitud del Vector Propio es: 1.0000000000000007\n",
      "La longitud del Vector Propio es: 1.0000000000000004\n",
      "La longitud del Vector Propio es: 0.9999999999999988\n",
      "La longitud del Vector Propio es: 1.0\n",
      "La longitud del Vector Propio es: 1.0000000000000004\n",
      "La longitud del Vector Propio es: 1.0\n",
      "La longitud del Vector Propio es: 0.999999999999999\n",
      "La longitud del Vector Propio es: 1.0\n",
      "La longitud del Vector Propio es: 1.000000000000001\n",
      "La longitud del Vector Propio es: 1.0000000000000002\n",
      "La longitud del Vector Propio es: 0.9999999999999994\n",
      "La longitud del Vector Propio es: 1.0\n",
      "La longitud del Vector Propio es: 1.0\n",
      "La longitud del Vector Propio es: 1.0\n",
      "La longitud del Vector Propio es: 1.0000000000000004\n"
     ]
    }
   ],
   "source": [
    "corr_matrix = np.corrcoef(df_cluster.T)\n",
    "eig_vals, eig_vectors = np.linalg.eig(corr_matrix)\n",
    "# Comprobamos que la longitud de los vecotes propios sea 1 (es decir, //ai// = 1)\n",
    "for ev in eig_vectors:\n",
    "    print(\"La longitud del Vector Propio es: %s\"%np.linalg.norm(ev))"
   ]
  },
  {
   "cell_type": "code",
   "execution_count": 67,
   "metadata": {},
   "outputs": [],
   "source": [
    "eigen_pairs = [(np.abs(eig_vals[i]), eig_vectors[:,i]) for i in range(len(eig_vals))]"
   ]
  },
  {
   "cell_type": "code",
   "execution_count": 68,
   "metadata": {},
   "outputs": [],
   "source": [
    "vals = [eigen_pairs[i][0] for i in range(len(eigen_pairs))] # Lista con los valores propios"
   ]
  },
  {
   "cell_type": "code",
   "execution_count": 69,
   "metadata": {},
   "outputs": [],
   "source": [
    "# Nos interesa tener el vector ordenado derecientemente\n",
    "vals_sorted = sorted(vals)\n",
    "vals_sorted.reverse()"
   ]
  },
  {
   "cell_type": "code",
   "execution_count": 70,
   "metadata": {},
   "outputs": [],
   "source": [
    "# En var_exp vamos a crear una lista que explica la cantidad de información que explica cada una de las dimensiones (en porcentajes)\n",
    "total_sum = sum(vals)\n",
    "var_exp = [(i/total_sum)*100 for i in vals]"
   ]
  },
  {
   "cell_type": "code",
   "execution_count": 71,
   "metadata": {},
   "outputs": [],
   "source": [
    "# En cum_var_exp que vamos a crear muestra la cantidad de información que explicaremos cada vez que \n",
    "# añadamos una dimension (porcentaje acumulado)\n",
    "cum_var_exp = np.cumsum(var_exp)"
   ]
  },
  {
   "cell_type": "markdown",
   "metadata": {},
   "source": [
    "#### Creación del gráfico de sedimentación"
   ]
  },
  {
   "cell_type": "code",
   "execution_count": 74,
   "metadata": {},
   "outputs": [
    {
     "data": {
      "application/vnd.plotly.v1+json": {
       "config": {
        "plotlyServerURL": "https://plotly.com"
       },
       "data": [
        {
         "showlegend": true,
         "type": "bar",
         "x": [
          "CP 1",
          "CP 2",
          "CP 3",
          "CP 4",
          "CP 5",
          "CP 6",
          "CP 7",
          "CP 8",
          "CP 9",
          "CP 10",
          "CP 11",
          "CP 12",
          "CP 13",
          "CP 14",
          "CP 15",
          "CP 16",
          "CP 17",
          "CP 18",
          "CP 19"
         ],
         "y": [
          30.655560148198607,
          12.417670038127026,
          9.329531489045932,
          6.393769447344372,
          5.005943501227871,
          4.065967933208752,
          3.708184066791019,
          3.4931344831381432,
          3.2583234508301944,
          3.057463320376406,
          2.4348611128483335,
          2.333677955564431,
          2.1342765304166305,
          1.6899628612292723,
          1.6074580526527555,
          1.4734297531024576,
          0.004972602154617217,
          0.029056408830611332,
          0.0790264241339205,
          0.1661032286003246,
          0.26468852186472197,
          1.2301652297543224,
          0.46719354656723466,
          0.5653535442629919,
          0.6345051101796446,
          0.7306280162130004,
          0.978071365144449,
          0.911933596421213,
          0.8790882617707382
         ]
        },
        {
         "showlegend": true,
         "type": "scatter",
         "x": [
          "CP 1",
          "CP 2",
          "CP 3",
          "CP 4",
          "CP 5",
          "CP 6",
          "CP 7",
          "CP 8",
          "CP 9",
          "CP 10",
          "CP 11",
          "CP 12",
          "CP 13",
          "CP 14",
          "CP 15",
          "CP 16",
          "CP 17",
          "CP 18",
          "CP 19"
         ],
         "y": [
          30.655560148198607,
          43.07323018632563,
          52.402761675371565,
          58.79653112271593,
          63.8024746239438,
          67.86844255715255,
          71.57662662394357,
          75.06976110708172,
          78.32808455791191,
          81.3855478782883,
          83.82040899113665,
          86.15408694670107,
          88.2883634771177,
          89.97832633834697,
          91.58578439099973,
          93.05921414410219,
          93.06418674625681,
          93.09324315508742,
          93.17226957922134,
          93.33837280782166,
          93.60306132968638,
          94.8332265594407,
          95.30042010600793,
          95.86577365027092,
          96.50027876045057,
          97.23090677666357,
          98.20897814180802,
          99.12091173822922,
          99.99999999999996
         ]
        }
       ],
       "layout": {
        "template": {
         "data": {
          "bar": [
           {
            "error_x": {
             "color": "#2a3f5f"
            },
            "error_y": {
             "color": "#2a3f5f"
            },
            "marker": {
             "line": {
              "color": "#E5ECF6",
              "width": 0.5
             },
             "pattern": {
              "fillmode": "overlay",
              "size": 10,
              "solidity": 0.2
             }
            },
            "type": "bar"
           }
          ],
          "barpolar": [
           {
            "marker": {
             "line": {
              "color": "#E5ECF6",
              "width": 0.5
             },
             "pattern": {
              "fillmode": "overlay",
              "size": 10,
              "solidity": 0.2
             }
            },
            "type": "barpolar"
           }
          ],
          "carpet": [
           {
            "aaxis": {
             "endlinecolor": "#2a3f5f",
             "gridcolor": "white",
             "linecolor": "white",
             "minorgridcolor": "white",
             "startlinecolor": "#2a3f5f"
            },
            "baxis": {
             "endlinecolor": "#2a3f5f",
             "gridcolor": "white",
             "linecolor": "white",
             "minorgridcolor": "white",
             "startlinecolor": "#2a3f5f"
            },
            "type": "carpet"
           }
          ],
          "choropleth": [
           {
            "colorbar": {
             "outlinewidth": 0,
             "ticks": ""
            },
            "type": "choropleth"
           }
          ],
          "contour": [
           {
            "colorbar": {
             "outlinewidth": 0,
             "ticks": ""
            },
            "colorscale": [
             [
              0,
              "#0d0887"
             ],
             [
              0.1111111111111111,
              "#46039f"
             ],
             [
              0.2222222222222222,
              "#7201a8"
             ],
             [
              0.3333333333333333,
              "#9c179e"
             ],
             [
              0.4444444444444444,
              "#bd3786"
             ],
             [
              0.5555555555555556,
              "#d8576b"
             ],
             [
              0.6666666666666666,
              "#ed7953"
             ],
             [
              0.7777777777777778,
              "#fb9f3a"
             ],
             [
              0.8888888888888888,
              "#fdca26"
             ],
             [
              1,
              "#f0f921"
             ]
            ],
            "type": "contour"
           }
          ],
          "contourcarpet": [
           {
            "colorbar": {
             "outlinewidth": 0,
             "ticks": ""
            },
            "type": "contourcarpet"
           }
          ],
          "heatmap": [
           {
            "colorbar": {
             "outlinewidth": 0,
             "ticks": ""
            },
            "colorscale": [
             [
              0,
              "#0d0887"
             ],
             [
              0.1111111111111111,
              "#46039f"
             ],
             [
              0.2222222222222222,
              "#7201a8"
             ],
             [
              0.3333333333333333,
              "#9c179e"
             ],
             [
              0.4444444444444444,
              "#bd3786"
             ],
             [
              0.5555555555555556,
              "#d8576b"
             ],
             [
              0.6666666666666666,
              "#ed7953"
             ],
             [
              0.7777777777777778,
              "#fb9f3a"
             ],
             [
              0.8888888888888888,
              "#fdca26"
             ],
             [
              1,
              "#f0f921"
             ]
            ],
            "type": "heatmap"
           }
          ],
          "heatmapgl": [
           {
            "colorbar": {
             "outlinewidth": 0,
             "ticks": ""
            },
            "colorscale": [
             [
              0,
              "#0d0887"
             ],
             [
              0.1111111111111111,
              "#46039f"
             ],
             [
              0.2222222222222222,
              "#7201a8"
             ],
             [
              0.3333333333333333,
              "#9c179e"
             ],
             [
              0.4444444444444444,
              "#bd3786"
             ],
             [
              0.5555555555555556,
              "#d8576b"
             ],
             [
              0.6666666666666666,
              "#ed7953"
             ],
             [
              0.7777777777777778,
              "#fb9f3a"
             ],
             [
              0.8888888888888888,
              "#fdca26"
             ],
             [
              1,
              "#f0f921"
             ]
            ],
            "type": "heatmapgl"
           }
          ],
          "histogram": [
           {
            "marker": {
             "pattern": {
              "fillmode": "overlay",
              "size": 10,
              "solidity": 0.2
             }
            },
            "type": "histogram"
           }
          ],
          "histogram2d": [
           {
            "colorbar": {
             "outlinewidth": 0,
             "ticks": ""
            },
            "colorscale": [
             [
              0,
              "#0d0887"
             ],
             [
              0.1111111111111111,
              "#46039f"
             ],
             [
              0.2222222222222222,
              "#7201a8"
             ],
             [
              0.3333333333333333,
              "#9c179e"
             ],
             [
              0.4444444444444444,
              "#bd3786"
             ],
             [
              0.5555555555555556,
              "#d8576b"
             ],
             [
              0.6666666666666666,
              "#ed7953"
             ],
             [
              0.7777777777777778,
              "#fb9f3a"
             ],
             [
              0.8888888888888888,
              "#fdca26"
             ],
             [
              1,
              "#f0f921"
             ]
            ],
            "type": "histogram2d"
           }
          ],
          "histogram2dcontour": [
           {
            "colorbar": {
             "outlinewidth": 0,
             "ticks": ""
            },
            "colorscale": [
             [
              0,
              "#0d0887"
             ],
             [
              0.1111111111111111,
              "#46039f"
             ],
             [
              0.2222222222222222,
              "#7201a8"
             ],
             [
              0.3333333333333333,
              "#9c179e"
             ],
             [
              0.4444444444444444,
              "#bd3786"
             ],
             [
              0.5555555555555556,
              "#d8576b"
             ],
             [
              0.6666666666666666,
              "#ed7953"
             ],
             [
              0.7777777777777778,
              "#fb9f3a"
             ],
             [
              0.8888888888888888,
              "#fdca26"
             ],
             [
              1,
              "#f0f921"
             ]
            ],
            "type": "histogram2dcontour"
           }
          ],
          "mesh3d": [
           {
            "colorbar": {
             "outlinewidth": 0,
             "ticks": ""
            },
            "type": "mesh3d"
           }
          ],
          "parcoords": [
           {
            "line": {
             "colorbar": {
              "outlinewidth": 0,
              "ticks": ""
             }
            },
            "type": "parcoords"
           }
          ],
          "pie": [
           {
            "automargin": true,
            "type": "pie"
           }
          ],
          "scatter": [
           {
            "fillpattern": {
             "fillmode": "overlay",
             "size": 10,
             "solidity": 0.2
            },
            "type": "scatter"
           }
          ],
          "scatter3d": [
           {
            "line": {
             "colorbar": {
              "outlinewidth": 0,
              "ticks": ""
             }
            },
            "marker": {
             "colorbar": {
              "outlinewidth": 0,
              "ticks": ""
             }
            },
            "type": "scatter3d"
           }
          ],
          "scattercarpet": [
           {
            "marker": {
             "colorbar": {
              "outlinewidth": 0,
              "ticks": ""
             }
            },
            "type": "scattercarpet"
           }
          ],
          "scattergeo": [
           {
            "marker": {
             "colorbar": {
              "outlinewidth": 0,
              "ticks": ""
             }
            },
            "type": "scattergeo"
           }
          ],
          "scattergl": [
           {
            "marker": {
             "colorbar": {
              "outlinewidth": 0,
              "ticks": ""
             }
            },
            "type": "scattergl"
           }
          ],
          "scattermapbox": [
           {
            "marker": {
             "colorbar": {
              "outlinewidth": 0,
              "ticks": ""
             }
            },
            "type": "scattermapbox"
           }
          ],
          "scatterpolar": [
           {
            "marker": {
             "colorbar": {
              "outlinewidth": 0,
              "ticks": ""
             }
            },
            "type": "scatterpolar"
           }
          ],
          "scatterpolargl": [
           {
            "marker": {
             "colorbar": {
              "outlinewidth": 0,
              "ticks": ""
             }
            },
            "type": "scatterpolargl"
           }
          ],
          "scatterternary": [
           {
            "marker": {
             "colorbar": {
              "outlinewidth": 0,
              "ticks": ""
             }
            },
            "type": "scatterternary"
           }
          ],
          "surface": [
           {
            "colorbar": {
             "outlinewidth": 0,
             "ticks": ""
            },
            "colorscale": [
             [
              0,
              "#0d0887"
             ],
             [
              0.1111111111111111,
              "#46039f"
             ],
             [
              0.2222222222222222,
              "#7201a8"
             ],
             [
              0.3333333333333333,
              "#9c179e"
             ],
             [
              0.4444444444444444,
              "#bd3786"
             ],
             [
              0.5555555555555556,
              "#d8576b"
             ],
             [
              0.6666666666666666,
              "#ed7953"
             ],
             [
              0.7777777777777778,
              "#fb9f3a"
             ],
             [
              0.8888888888888888,
              "#fdca26"
             ],
             [
              1,
              "#f0f921"
             ]
            ],
            "type": "surface"
           }
          ],
          "table": [
           {
            "cells": {
             "fill": {
              "color": "#EBF0F8"
             },
             "line": {
              "color": "white"
             }
            },
            "header": {
             "fill": {
              "color": "#C8D4E3"
             },
             "line": {
              "color": "white"
             }
            },
            "type": "table"
           }
          ]
         },
         "layout": {
          "annotationdefaults": {
           "arrowcolor": "#2a3f5f",
           "arrowhead": 0,
           "arrowwidth": 1
          },
          "autotypenumbers": "strict",
          "coloraxis": {
           "colorbar": {
            "outlinewidth": 0,
            "ticks": ""
           }
          },
          "colorscale": {
           "diverging": [
            [
             0,
             "#8e0152"
            ],
            [
             0.1,
             "#c51b7d"
            ],
            [
             0.2,
             "#de77ae"
            ],
            [
             0.3,
             "#f1b6da"
            ],
            [
             0.4,
             "#fde0ef"
            ],
            [
             0.5,
             "#f7f7f7"
            ],
            [
             0.6,
             "#e6f5d0"
            ],
            [
             0.7,
             "#b8e186"
            ],
            [
             0.8,
             "#7fbc41"
            ],
            [
             0.9,
             "#4d9221"
            ],
            [
             1,
             "#276419"
            ]
           ],
           "sequential": [
            [
             0,
             "#0d0887"
            ],
            [
             0.1111111111111111,
             "#46039f"
            ],
            [
             0.2222222222222222,
             "#7201a8"
            ],
            [
             0.3333333333333333,
             "#9c179e"
            ],
            [
             0.4444444444444444,
             "#bd3786"
            ],
            [
             0.5555555555555556,
             "#d8576b"
            ],
            [
             0.6666666666666666,
             "#ed7953"
            ],
            [
             0.7777777777777778,
             "#fb9f3a"
            ],
            [
             0.8888888888888888,
             "#fdca26"
            ],
            [
             1,
             "#f0f921"
            ]
           ],
           "sequentialminus": [
            [
             0,
             "#0d0887"
            ],
            [
             0.1111111111111111,
             "#46039f"
            ],
            [
             0.2222222222222222,
             "#7201a8"
            ],
            [
             0.3333333333333333,
             "#9c179e"
            ],
            [
             0.4444444444444444,
             "#bd3786"
            ],
            [
             0.5555555555555556,
             "#d8576b"
            ],
            [
             0.6666666666666666,
             "#ed7953"
            ],
            [
             0.7777777777777778,
             "#fb9f3a"
            ],
            [
             0.8888888888888888,
             "#fdca26"
            ],
            [
             1,
             "#f0f921"
            ]
           ]
          },
          "colorway": [
           "#636efa",
           "#EF553B",
           "#00cc96",
           "#ab63fa",
           "#FFA15A",
           "#19d3f3",
           "#FF6692",
           "#B6E880",
           "#FF97FF",
           "#FECB52"
          ],
          "font": {
           "color": "#2a3f5f"
          },
          "geo": {
           "bgcolor": "white",
           "lakecolor": "white",
           "landcolor": "#E5ECF6",
           "showlakes": true,
           "showland": true,
           "subunitcolor": "white"
          },
          "hoverlabel": {
           "align": "left"
          },
          "hovermode": "closest",
          "mapbox": {
           "style": "light"
          },
          "paper_bgcolor": "white",
          "plot_bgcolor": "#E5ECF6",
          "polar": {
           "angularaxis": {
            "gridcolor": "white",
            "linecolor": "white",
            "ticks": ""
           },
           "bgcolor": "#E5ECF6",
           "radialaxis": {
            "gridcolor": "white",
            "linecolor": "white",
            "ticks": ""
           }
          },
          "scene": {
           "xaxis": {
            "backgroundcolor": "#E5ECF6",
            "gridcolor": "white",
            "gridwidth": 2,
            "linecolor": "white",
            "showbackground": true,
            "ticks": "",
            "zerolinecolor": "white"
           },
           "yaxis": {
            "backgroundcolor": "#E5ECF6",
            "gridcolor": "white",
            "gridwidth": 2,
            "linecolor": "white",
            "showbackground": true,
            "ticks": "",
            "zerolinecolor": "white"
           },
           "zaxis": {
            "backgroundcolor": "#E5ECF6",
            "gridcolor": "white",
            "gridwidth": 2,
            "linecolor": "white",
            "showbackground": true,
            "ticks": "",
            "zerolinecolor": "white"
           }
          },
          "shapedefaults": {
           "line": {
            "color": "#2a3f5f"
           }
          },
          "ternary": {
           "aaxis": {
            "gridcolor": "white",
            "linecolor": "white",
            "ticks": ""
           },
           "baxis": {
            "gridcolor": "white",
            "linecolor": "white",
            "ticks": ""
           },
           "bgcolor": "#E5ECF6",
           "caxis": {
            "gridcolor": "white",
            "linecolor": "white",
            "ticks": ""
           }
          },
          "title": {
           "x": 0.05
          },
          "xaxis": {
           "automargin": true,
           "gridcolor": "white",
           "linecolor": "white",
           "ticks": "",
           "title": {
            "standoff": 15
           },
           "zerolinecolor": "white",
           "zerolinewidth": 2
          },
          "yaxis": {
           "automargin": true,
           "gridcolor": "white",
           "linecolor": "white",
           "ticks": "",
           "title": {
            "standoff": 15
           },
           "zerolinecolor": "white",
           "zerolinewidth": 2
          }
         }
        },
        "title": {
         "text": "Porcentaje de variabilidad explicada por cada componente principal"
        },
        "xaxis": {
         "title": {
          "text": "Componentes principales"
         }
        },
        "yaxis": {
         "title": {
          "text": "Porcentaje de varianza explicada"
         }
        }
       }
      }
     },
     "metadata": {},
     "output_type": "display_data"
    }
   ],
   "source": [
    "# Hacemos una representación gráfica de los dos datos obtenidos var_exp y cum_var_exp\n",
    "plot1 = go.Bar(x=[f\"CP {i}\" for i in range(1,20)], y=var_exp, showlegend= True)\n",
    "plot2 = go.Scatter(x=[f\"CP {i}\" for i in range(1,20)], y=cum_var_exp, showlegend= True)\n",
    "\n",
    "data = [plot1,plot2]\n",
    "\n",
    "layout = go.Layout(xaxis= {\"title\": \"Componentes principales\"},\n",
    "                  yaxis ={\"title\": \"Porcentaje de varianza explicada\"},\n",
    "                  title = \"Porcentaje de variabilidad explicada por cada componente principal\")\n",
    "\n",
    "fig = go.Figure(data=data,layout=layout)\n",
    "fig.show()"
   ]
  },
  {
   "cell_type": "markdown",
   "metadata": {},
   "source": [
    "#### Matriz de proyección"
   ]
  },
  {
   "cell_type": "code",
   "execution_count": 75,
   "metadata": {},
   "outputs": [
    {
     "data": {
      "text/plain": [
       "array([[-0.10468005, -0.00066056],\n",
       "       [ 0.20879589, -0.05463554],\n",
       "       [ 0.23849891, -0.31056866],\n",
       "       [ 0.2805777 , -0.213438  ],\n",
       "       [ 0.26688174, -0.27157706],\n",
       "       [ 0.01273288,  0.04293464],\n",
       "       [ 0.15923102, -0.34195016],\n",
       "       [ 0.13938793,  0.10271039],\n",
       "       [-0.23832695, -0.05853691],\n",
       "       [ 0.25816833, -0.19810551],\n",
       "       [-0.24842662,  0.23749018],\n",
       "       [ 0.12002141,  0.09270642],\n",
       "       [ 0.10567184, -0.00282212],\n",
       "       [ 0.11756373,  0.14830244],\n",
       "       [ 0.23977634,  0.03580032],\n",
       "       [ 0.06416017,  0.16378096],\n",
       "       [ 0.23662417,  0.06517694],\n",
       "       [ 0.23472984,  0.12643483],\n",
       "       [ 0.18426012,  0.10622659],\n",
       "       [ 0.18821028,  0.14982376],\n",
       "       [ 0.24711762,  0.06865311],\n",
       "       [ 0.09388462,  0.33360185],\n",
       "       [ 0.22620801,  0.1258186 ],\n",
       "       [ 0.15507625,  0.2823593 ],\n",
       "       [ 0.21218467,  0.18000148],\n",
       "       [ 0.00342516,  0.26848841],\n",
       "       [ 0.14877937,  0.21129809],\n",
       "       [-0.00793956,  0.20205852],\n",
       "       [ 0.12126088,  0.19663798]])"
      ]
     },
     "execution_count": 75,
     "metadata": {},
     "output_type": "execute_result"
    }
   ],
   "source": [
    "# Construcción de la matriz de proyección, se hace concatenando los p (p = cantidad que queramos escoger) valores propios \n",
    "# más grandes\n",
    "\n",
    "W = np.hstack((eigen_pairs[0][1].reshape(len(eigen_pairs),1), \n",
    "               eigen_pairs[1][1].reshape(len(eigen_pairs),1)))\n",
    "W"
   ]
  },
  {
   "cell_type": "markdown",
   "metadata": {},
   "source": [
    "#### Plot de las canciones"
   ]
  },
  {
   "cell_type": "code",
   "execution_count": 78,
   "metadata": {},
   "outputs": [],
   "source": [
    "Y = np.dot(df_cluster,W)"
   ]
  },
  {
   "cell_type": "code",
   "execution_count": 83,
   "metadata": {},
   "outputs": [],
   "source": [
    "generos_col = df_t[\"Genero\"]\n",
    "nombres = df_t[\"archivo\"]"
   ]
  },
  {
   "cell_type": "code",
   "execution_count": 84,
   "metadata": {},
   "outputs": [
    {
     "data": {
      "application/vnd.plotly.v1+json": {
       "config": {
        "plotlyServerURL": "https://plotly.com"
       },
       "data": [
        {
         "marker": {
          "line": {
           "color": "rgba(225,225,225,0.2)",
           "width": 0.5
          },
          "size": 8
         },
         "mode": "markers",
         "name": "jazz",
         "opacity": 0.75,
         "text": [
          "data/jazz/Body And Soul (2008 Remastered)_4LnEuDASRWY.mp3",
          "data/jazz/Ella Fitzgerald - How High The Moon (High Quality - Remastered)_djZCe7ou3kY.mp3",
          "data/jazz/Ella Fitzgerald - Mack The Knife (Live)_lhg2VlayHTI.mp3",
          "data/jazz/Fats Waller - Ain't Misbehavin' (Audio)_pZ8fWP6a3Q4.mp3",
          "data/jazz/Fly Me To The Moon (2008 Remastered)_ZEcqHA7dbwM.mp3",
          "data/jazz/God bless the child - Billie Holiday_bKNtP1zOVHw.mp3",
          "data/jazz/Herbie Hancock - Cantaloupe Island_8B1oIXGX0Io.mp3",
          "data/jazz/Miles Davis - Stella by Starlight (Audio) (Official Audio)_XGx1HvLV_NQ.mp3",
          "data/jazz/My Favorite Things.mp3",
          "data/jazz/My Funny Valentine.mp3",
          "data/jazz/Ray Charles - Georgia On My Mind (Official Video)_ggGzE5KfCio.mp3",
          "data/jazz/Round Midnight.mp3",
          "data/jazz/Sarah Vaughan - I Got Rhythm_7HTF-zLdhqg.mp3",
          "data/jazz/Sonny Rollins - St. Thomas (Official Audio)_fdakJqKPRDE.mp3",
          "data/jazz/Strange Fruit.mp3",
          "data/jazz/Summertime.mp3",
          "data/jazz/Take Five.mp3",
          "data/jazz/Take the _A_ Train.mp3",
          "data/jazz/The Girl From Ipanema (2008 Remastered)_mD6pbCSeWLs.mp3",
          "data/jazz/Yardbird Suite.mp3"
         ],
         "type": "scatter",
         "x": [
          -3.504737644313156,
          2.5797162112294503,
          1.2986599674669836,
          -4.061512050335675,
          1.3607540923522352,
          -6.0965201330948995,
          -0.7902760182428138,
          -0.5348220524166865,
          0.7148113877081095,
          -3.214567865451095,
          -2.1909878723553606,
          -1.507354882994394,
          0.0991205545382539,
          0.6034679064890349,
          -2.6877213218192977,
          -4.480290304824558,
          1.2411321597828682,
          2.952102480403341,
          -2.050090881853634,
          -1.977744777163692
         ],
         "y": [
          0.39232889407708954,
          -1.9421147032434487,
          -1.215699481589457,
          -2.3040074101324444,
          1.1339344982680044,
          0.6018764012627142,
          -0.5938253008298394,
          -0.41768219584456356,
          2.947818205217545,
          1.1283018240982279,
          -3.3575368828377865,
          1.0246941972117738,
          -0.8532900839448615,
          -0.9338405150257397,
          2.463591277381297,
          -0.6978523031476837,
          0.8505253343526769,
          -0.9942493156796657,
          -1.5221168296726453,
          3.3871853722668317
         ]
        },
        {
         "marker": {
          "line": {
           "color": "rgba(225,225,225,0.2)",
           "width": 0.5
          },
          "size": 8
         },
         "mode": "markers",
         "name": "opera",
         "opacity": 0.75,
         "text": [
          "data/opera/Andrea Bocelli - Por ti volare_uTlPPqPodiA.mp3",
          "data/opera/Anna Netrebko - Sempre Libera (La Traviata, Verdi).mp3",
          "data/opera/Caro nome.mp3",
          "data/opera/Che gelida manina.mp3",
          "data/opera/Don Carlo_ _Ella giammai m'amò_ (Ferruccio Furlanetto).mp3",
          "data/opera/Eugene Onegin_ Letter Scene -- Anna Netrebko.mp3",
          "data/opera/HAENDEL _ Lascia ch'io pianga, par Patricia Petibon._Z5WUO7hsgCA.mp3",
          "data/opera/Handel's Alcina - 'Tornami a vagheggiar' (Louise Alder, Antonio Pappano; The Royal Opera)_dFxt-ShtIZQ.mp3",
          "data/opera/Henry Purcell_ Dido's Lament (Dido and Aeneas); Anna Dennis, soprano, with Voices of Music 4K UHD.mp3",
          "data/opera/La fille du régiment - 'Ah_ mes amis' (Donizetti; Juan Diego Flórez, The Royal Opera).mp3",
          "data/opera/Largo al factotum.mp3",
          "data/opera/Lisette Oropesa - Deh vieni, non tardar.mp3",
          "data/opera/Maria Callas sings _Casta Diva_ (Bellini_ Norma, Act 1)_s-TwMfgaDC8.mp3",
          "data/opera/NessunDorma_Opera.mp3",
          "data/opera/O Mio Babbino Caro.mp3",
          "data/opera/Samson et Dalila_ “Mon cœur s’ouvre à ta voix”.mp3",
          "data/opera/The Magic Flute – Queen of the Night aria (Mozart; Diana Damrau, The Royal Opera)_YuBeBjqKSGQ.mp3",
          "data/opera/Tosca_ _E lucevan le stelle_.mp3",
          "data/opera/Va, pensiero.mp3",
          "data/opera/Vesti la giubba.mp3"
         ],
         "type": "scatter",
         "x": [
          -2.7062284502122242,
          -2.452449952663566,
          -2.4157372722618087,
          -4.031776303444589,
          -5.814815019853315,
          -5.077365002780813,
          -3.568534114286827,
          -7.111130733733769,
          -5.2578340350221495,
          -3.247723959533821,
          -2.7006910440738183,
          -4.578525074448929,
          -3.6012943476093273,
          -4.843920366821405,
          -4.546153627261809,
          -9.483934168145813,
          -4.075628330972604,
          -4.135653135772824,
          0.62388579796983,
          -4.076556171112459
         ],
         "y": [
          -0.9915841400866631,
          1.3049162815136115,
          4.127928709285155,
          -1.0475720592575042,
          -0.1812084071657697,
          -0.028649410559873068,
          2.6318104703084466,
          -2.643611972234592,
          1.5446493050232997,
          -1.0174122421260479,
          -0.3416209286833929,
          2.0688185972948845,
          1.7518260010124784,
          -1.5209356295653949,
          1.5855129254911617,
          -2.505792669472229,
          1.4446937778487083,
          0.29086708142218176,
          1.783563877382495,
          -0.18822138740329777
         ]
        },
        {
         "marker": {
          "line": {
           "color": "rgba(225,225,225,0.2)",
           "width": 0.5
          },
          "size": 8
         },
         "mode": "markers",
         "name": "rap",
         "opacity": 0.75,
         "text": [
          "data/rap/Big Poppa.mp3",
          "data/rap/Check Yo Self-HdOhwPovkHI.mp3",
          "data/rap/Eminem - Without Me (Official Music Video)-YVkUvmDQ3HY.mp3",
          "data/rap/Eminem, Dr. Dre - Forgot About Dre (Explicit) (Official Music Video) ft. Hittman-QFcv5Ma8u8k.mp3",
          "data/rap/Eric B. &amp; Rakim - I Ain't No Joke-2TN-kDEKxF0.mp3",
          "data/rap/Eric B. &amp; Rakim - Juice (Know The Ledge)-OPkWYTUiPTo.mp3",
          "data/rap/Hotline Bling.mp3",
          "data/rap/Hypnotize (2007 Remaster)-k1qpgQr8wXk.mp3",
          "data/rap/It Was A Good Day.mp3",
          "data/rap/KASE.O - TUTORIAL a.k.a. CASINO _Video Lyric_ (Prod. XTRAGOS)-l1C-p4O3MsE.mp3",
          "data/rap/LoseYourself_HipHop.mp3",
          "data/rap/Mobb Deep - Shook Ones, Pt. II (Official HD Video)-yoYZf-lBF_U.mp3",
          "data/rap/Ninguna Chavala Tiene Dueño - Porque Ella Me Lo Dijo.mp3",
          "data/rap/Rakim - When I B On Tha Mic (Official Music Video)-M34OelgSlKI.mp3",
          "data/rap/SICKO MODE.mp3",
          "data/rap/Still D.R.E..mp3",
          "data/rap/Straight Outta Compton.mp3",
          "data/rap/The Notorious B.I.G. - Juicy (Official Video) [4K]-_JZom_gVfuw.mp3",
          "data/rap/Warren G - Regulate (Official Music Video) ft. Nate Dogg-1plPyJdXKIY.mp3",
          "data/rap/Wu-Tang Clan - C.R.E.A.M. (Official HD Video)-PBwAxmrE194.mp3"
         ],
         "type": "scatter",
         "x": [
          1.2653786476717486,
          3.7670588487015015,
          4.1008294620295205,
          2.445802245491339,
          3.342314252510226,
          2.0646316152087314,
          2.2287104669807953,
          3.671824245895394,
          2.238165400926629,
          4.274788477788213,
          3.4019227274938326,
          4.8425946914872045,
          -0.9038628456945367,
          1.9654140154352586,
          3.3809933351123442,
          3.169317727879904,
          4.093004097910049,
          0.9066943157013955,
          1.7493347054611925,
          2.9722316787426557
         ],
         "y": [
          -2.85632341671587,
          0.06379893928856077,
          2.0272505981208564,
          -0.54216302273491,
          2.006851315623589,
          -1.0468037102993628,
          1.864856827309259,
          -1.2489644828635442,
          0.4199055604482101,
          2.574899393900163,
          1.7050395648200314,
          -0.8437077536733891,
          -2.3724262497106112,
          -2.7103314448448423,
          0.24611763566431757,
          0.5487633947712768,
          -2.512149737706002,
          -2.9726729405720973,
          2.2682737397084103,
          1.4365951561148131
         ]
        },
        {
         "marker": {
          "line": {
           "color": "rgba(225,225,225,0.2)",
           "width": 0.5
          },
          "size": 8
         },
         "mode": "markers",
         "name": "reggae",
         "opacity": 0.75,
         "text": [
          "data/reggae/Bob Andy - Unchained (Studio One)-OY5JNcn9Bgs.mp3",
          "data/reggae/Bob Marley - Get Up Stand Up [HQ Sound]-X2W3aG8uizA.mp3",
          "data/reggae/Bob Marley - One Love-vdB-8eLEW8g.mp3",
          "data/reggae/Buju Banton - Blessed-tzmzKtOaVf4.mp3",
          "data/reggae/Damian 'Jr. Gong' Marley - Welcome To Jamrock (Official Video)-_GZlJGERbvE.mp3",
          "data/reggae/Desmond Dekker & The Aces – Israelites (Official Lyrics Video)-0wSXTN2EfRo.mp3",
          "data/reggae/Eric Donaldson - Cherry Oh Baby [Best Quality]-Xesu5vC_9bc.mp3",
          "data/reggae/Inner Circle - Bad Boys (Video original)-Zd68AthoNIw.mp3",
          "data/reggae/Jimmy Cliff - Many Rivers To Cross (Lyrics on screen)-QvBEpwcGM2o.mp3",
          "data/reggae/Legalize It.mp3",
          "data/reggae/Marcus Garvey.mp3",
          "data/reggae/Night Nurse.mp3",
          "data/reggae/No Woman, No Cry.mp3",
          "data/reggae/Pressure Drop.mp3",
          "data/reggae/Red Red Wine.mp3",
          "data/reggae/Sister Nancy - BAM BAM-qXnT3LFTc-s.mp3",
          "data/reggae/The Harder They Come.mp3",
          "data/reggae/The Paragons - 'The Tide Is High' (Official Audio)-SQXqkiKXiHc.mp3",
          "data/reggae/The Wailers  - Stir It Up - The Old Grey Whistle-pJ1kq7GE2i0.mp3",
          "data/reggae/Welcome To Jamrock.mp3"
         ],
         "type": "scatter",
         "x": [
          1.8231615346421965,
          1.423235160928351,
          -0.7914877748783632,
          0.2901512356462784,
          3.2625246336416818,
          0.5896156422627736,
          0.5831942607293177,
          1.914675491803046,
          -0.39625328090839934,
          2.381424782317164,
          2.074978641722103,
          2.5360973491734295,
          0.6556140379032832,
          0.2330026575773799,
          3.4911543907959217,
          -1.6692247000629423,
          0.6390703053587575,
          1.6432764087638116,
          -1.4647369713660032,
          4.260773421938748
         ],
         "y": [
          5.326945573746754,
          1.5250716038164855,
          1.7497283429999408,
          -0.09364137593520862,
          -0.3338317744737387,
          -0.19057456412826076,
          2.6347963747550347,
          -1.1274793321965386,
          1.3915991130760372,
          3.529490162703121,
          3.2899146864479616,
          2.7710706666489653,
          2.239132139888953,
          -0.6419830326198329,
          0.5074342141396555,
          3.2534353131863716,
          -0.9631776628733257,
          1.148090442473209,
          -0.7753605584222961,
          0.31106131660316366
         ]
        },
        {
         "marker": {
          "line": {
           "color": "rgba(225,225,225,0.2)",
           "width": 0.5
          },
          "size": 8
         },
         "mode": "markers",
         "name": "rock",
         "opacity": 0.75,
         "text": [
          "data/rock/Bill Withers - Aint No Sunshine (Official Audio)-YuKfiH0Scao.mp3",
          "data/rock/BLACK SABBATH - Paranoid (Official Video)-0qanF-91aJo.mp3",
          "data/rock/BohemianRhapsody_Rock.mp3",
          "data/rock/Eye of the Tiger.mp3",
          "data/rock/Fade To Black (Remastered)-9HZ_tx8aWuA.mp3",
          "data/rock/Greta Van Fleet - Highway Tune (Official Video)-aJg4OJxp-co.mp3",
          "data/rock/Highway to Hell.mp3",
          "data/rock/Iron Maiden - The Trooper (Official Video)-X4bgXH3sJ2Q.mp3",
          "data/rock/Kiss - I Was Made For Lovin You-ZhIsAZO5gl0.mp3",
          "data/rock/Led Zeppelin - Whole Lotta Love (Official Music Video)-HQmmM_qwG4k.mp3",
          "data/rock/Misty Mountain Hop - Remaster.mp3",
          "data/rock/Nightrain.mp3",
          "data/rock/One.mp3",
          "data/rock/Prófugos.mp3",
          "data/rock/Queen - Dont Stop Me Now (Official Video)-HgzGwKwLmgM.mp3",
          "data/rock/Rock and Roll - Remaster.mp3",
          "data/rock/The Jimi Hendrix Experience - Purple Haze (Official Audio)-WGoDaYjdfSg.mp3",
          "data/rock/The Rolling Stones - (I Cant Get No) Satisfaction (Official Lyric Video)-nrIPxlFzDi0.mp3",
          "data/rock/The Rolling Stones - Gimme Shelter (Official Lyric Video)-RbmS3tQJ7Os.mp3",
          "data/rock/Willie Nelson - On The Road Again (Official Audio)-dBN86y30Ufc.mp3"
         ],
         "type": "scatter",
         "x": [
          -0.1869214780406977,
          2.5038423934793372,
          -0.4599060674901235,
          1.5581001958667258,
          1.455618317178509,
          2.288901988022733,
          2.5909321962723078,
          1.0424674221738448,
          3.4314430604289456,
          1.2949976536069585,
          0.09571515257815304,
          0.4632273319151141,
          1.4553383921367031,
          2.845966364173774,
          1.4602082279575117,
          2.736452186876953,
          1.5385976159305188,
          1.510764151654831,
          -0.23696746697957916,
          -0.4972466215273998
         ],
         "y": [
          1.5543570553584793,
          -0.7008615857038866,
          -1.32640847914649,
          -0.7293178035635539,
          -4.518933696147652,
          -0.7232055083512925,
          -1.9225535429339429,
          -1.7880925804843837,
          -1.055862998144717,
          -0.9680500713011191,
          -2.5161394850660908,
          -3.5265762831028633,
          -1.9037874472656966,
          -1.9468205290032714,
          -1.6521144784340869,
          -2.205500631671528,
          -2.00678549172523,
          -1.3432701030410759,
          -1.0856535960570985,
          -0.40897292291553317
         ]
        }
       ],
       "layout": {
        "template": {
         "data": {
          "bar": [
           {
            "error_x": {
             "color": "#2a3f5f"
            },
            "error_y": {
             "color": "#2a3f5f"
            },
            "marker": {
             "line": {
              "color": "#E5ECF6",
              "width": 0.5
             },
             "pattern": {
              "fillmode": "overlay",
              "size": 10,
              "solidity": 0.2
             }
            },
            "type": "bar"
           }
          ],
          "barpolar": [
           {
            "marker": {
             "line": {
              "color": "#E5ECF6",
              "width": 0.5
             },
             "pattern": {
              "fillmode": "overlay",
              "size": 10,
              "solidity": 0.2
             }
            },
            "type": "barpolar"
           }
          ],
          "carpet": [
           {
            "aaxis": {
             "endlinecolor": "#2a3f5f",
             "gridcolor": "white",
             "linecolor": "white",
             "minorgridcolor": "white",
             "startlinecolor": "#2a3f5f"
            },
            "baxis": {
             "endlinecolor": "#2a3f5f",
             "gridcolor": "white",
             "linecolor": "white",
             "minorgridcolor": "white",
             "startlinecolor": "#2a3f5f"
            },
            "type": "carpet"
           }
          ],
          "choropleth": [
           {
            "colorbar": {
             "outlinewidth": 0,
             "ticks": ""
            },
            "type": "choropleth"
           }
          ],
          "contour": [
           {
            "colorbar": {
             "outlinewidth": 0,
             "ticks": ""
            },
            "colorscale": [
             [
              0,
              "#0d0887"
             ],
             [
              0.1111111111111111,
              "#46039f"
             ],
             [
              0.2222222222222222,
              "#7201a8"
             ],
             [
              0.3333333333333333,
              "#9c179e"
             ],
             [
              0.4444444444444444,
              "#bd3786"
             ],
             [
              0.5555555555555556,
              "#d8576b"
             ],
             [
              0.6666666666666666,
              "#ed7953"
             ],
             [
              0.7777777777777778,
              "#fb9f3a"
             ],
             [
              0.8888888888888888,
              "#fdca26"
             ],
             [
              1,
              "#f0f921"
             ]
            ],
            "type": "contour"
           }
          ],
          "contourcarpet": [
           {
            "colorbar": {
             "outlinewidth": 0,
             "ticks": ""
            },
            "type": "contourcarpet"
           }
          ],
          "heatmap": [
           {
            "colorbar": {
             "outlinewidth": 0,
             "ticks": ""
            },
            "colorscale": [
             [
              0,
              "#0d0887"
             ],
             [
              0.1111111111111111,
              "#46039f"
             ],
             [
              0.2222222222222222,
              "#7201a8"
             ],
             [
              0.3333333333333333,
              "#9c179e"
             ],
             [
              0.4444444444444444,
              "#bd3786"
             ],
             [
              0.5555555555555556,
              "#d8576b"
             ],
             [
              0.6666666666666666,
              "#ed7953"
             ],
             [
              0.7777777777777778,
              "#fb9f3a"
             ],
             [
              0.8888888888888888,
              "#fdca26"
             ],
             [
              1,
              "#f0f921"
             ]
            ],
            "type": "heatmap"
           }
          ],
          "heatmapgl": [
           {
            "colorbar": {
             "outlinewidth": 0,
             "ticks": ""
            },
            "colorscale": [
             [
              0,
              "#0d0887"
             ],
             [
              0.1111111111111111,
              "#46039f"
             ],
             [
              0.2222222222222222,
              "#7201a8"
             ],
             [
              0.3333333333333333,
              "#9c179e"
             ],
             [
              0.4444444444444444,
              "#bd3786"
             ],
             [
              0.5555555555555556,
              "#d8576b"
             ],
             [
              0.6666666666666666,
              "#ed7953"
             ],
             [
              0.7777777777777778,
              "#fb9f3a"
             ],
             [
              0.8888888888888888,
              "#fdca26"
             ],
             [
              1,
              "#f0f921"
             ]
            ],
            "type": "heatmapgl"
           }
          ],
          "histogram": [
           {
            "marker": {
             "pattern": {
              "fillmode": "overlay",
              "size": 10,
              "solidity": 0.2
             }
            },
            "type": "histogram"
           }
          ],
          "histogram2d": [
           {
            "colorbar": {
             "outlinewidth": 0,
             "ticks": ""
            },
            "colorscale": [
             [
              0,
              "#0d0887"
             ],
             [
              0.1111111111111111,
              "#46039f"
             ],
             [
              0.2222222222222222,
              "#7201a8"
             ],
             [
              0.3333333333333333,
              "#9c179e"
             ],
             [
              0.4444444444444444,
              "#bd3786"
             ],
             [
              0.5555555555555556,
              "#d8576b"
             ],
             [
              0.6666666666666666,
              "#ed7953"
             ],
             [
              0.7777777777777778,
              "#fb9f3a"
             ],
             [
              0.8888888888888888,
              "#fdca26"
             ],
             [
              1,
              "#f0f921"
             ]
            ],
            "type": "histogram2d"
           }
          ],
          "histogram2dcontour": [
           {
            "colorbar": {
             "outlinewidth": 0,
             "ticks": ""
            },
            "colorscale": [
             [
              0,
              "#0d0887"
             ],
             [
              0.1111111111111111,
              "#46039f"
             ],
             [
              0.2222222222222222,
              "#7201a8"
             ],
             [
              0.3333333333333333,
              "#9c179e"
             ],
             [
              0.4444444444444444,
              "#bd3786"
             ],
             [
              0.5555555555555556,
              "#d8576b"
             ],
             [
              0.6666666666666666,
              "#ed7953"
             ],
             [
              0.7777777777777778,
              "#fb9f3a"
             ],
             [
              0.8888888888888888,
              "#fdca26"
             ],
             [
              1,
              "#f0f921"
             ]
            ],
            "type": "histogram2dcontour"
           }
          ],
          "mesh3d": [
           {
            "colorbar": {
             "outlinewidth": 0,
             "ticks": ""
            },
            "type": "mesh3d"
           }
          ],
          "parcoords": [
           {
            "line": {
             "colorbar": {
              "outlinewidth": 0,
              "ticks": ""
             }
            },
            "type": "parcoords"
           }
          ],
          "pie": [
           {
            "automargin": true,
            "type": "pie"
           }
          ],
          "scatter": [
           {
            "fillpattern": {
             "fillmode": "overlay",
             "size": 10,
             "solidity": 0.2
            },
            "type": "scatter"
           }
          ],
          "scatter3d": [
           {
            "line": {
             "colorbar": {
              "outlinewidth": 0,
              "ticks": ""
             }
            },
            "marker": {
             "colorbar": {
              "outlinewidth": 0,
              "ticks": ""
             }
            },
            "type": "scatter3d"
           }
          ],
          "scattercarpet": [
           {
            "marker": {
             "colorbar": {
              "outlinewidth": 0,
              "ticks": ""
             }
            },
            "type": "scattercarpet"
           }
          ],
          "scattergeo": [
           {
            "marker": {
             "colorbar": {
              "outlinewidth": 0,
              "ticks": ""
             }
            },
            "type": "scattergeo"
           }
          ],
          "scattergl": [
           {
            "marker": {
             "colorbar": {
              "outlinewidth": 0,
              "ticks": ""
             }
            },
            "type": "scattergl"
           }
          ],
          "scattermapbox": [
           {
            "marker": {
             "colorbar": {
              "outlinewidth": 0,
              "ticks": ""
             }
            },
            "type": "scattermapbox"
           }
          ],
          "scatterpolar": [
           {
            "marker": {
             "colorbar": {
              "outlinewidth": 0,
              "ticks": ""
             }
            },
            "type": "scatterpolar"
           }
          ],
          "scatterpolargl": [
           {
            "marker": {
             "colorbar": {
              "outlinewidth": 0,
              "ticks": ""
             }
            },
            "type": "scatterpolargl"
           }
          ],
          "scatterternary": [
           {
            "marker": {
             "colorbar": {
              "outlinewidth": 0,
              "ticks": ""
             }
            },
            "type": "scatterternary"
           }
          ],
          "surface": [
           {
            "colorbar": {
             "outlinewidth": 0,
             "ticks": ""
            },
            "colorscale": [
             [
              0,
              "#0d0887"
             ],
             [
              0.1111111111111111,
              "#46039f"
             ],
             [
              0.2222222222222222,
              "#7201a8"
             ],
             [
              0.3333333333333333,
              "#9c179e"
             ],
             [
              0.4444444444444444,
              "#bd3786"
             ],
             [
              0.5555555555555556,
              "#d8576b"
             ],
             [
              0.6666666666666666,
              "#ed7953"
             ],
             [
              0.7777777777777778,
              "#fb9f3a"
             ],
             [
              0.8888888888888888,
              "#fdca26"
             ],
             [
              1,
              "#f0f921"
             ]
            ],
            "type": "surface"
           }
          ],
          "table": [
           {
            "cells": {
             "fill": {
              "color": "#EBF0F8"
             },
             "line": {
              "color": "white"
             }
            },
            "header": {
             "fill": {
              "color": "#C8D4E3"
             },
             "line": {
              "color": "white"
             }
            },
            "type": "table"
           }
          ]
         },
         "layout": {
          "annotationdefaults": {
           "arrowcolor": "#2a3f5f",
           "arrowhead": 0,
           "arrowwidth": 1
          },
          "autotypenumbers": "strict",
          "coloraxis": {
           "colorbar": {
            "outlinewidth": 0,
            "ticks": ""
           }
          },
          "colorscale": {
           "diverging": [
            [
             0,
             "#8e0152"
            ],
            [
             0.1,
             "#c51b7d"
            ],
            [
             0.2,
             "#de77ae"
            ],
            [
             0.3,
             "#f1b6da"
            ],
            [
             0.4,
             "#fde0ef"
            ],
            [
             0.5,
             "#f7f7f7"
            ],
            [
             0.6,
             "#e6f5d0"
            ],
            [
             0.7,
             "#b8e186"
            ],
            [
             0.8,
             "#7fbc41"
            ],
            [
             0.9,
             "#4d9221"
            ],
            [
             1,
             "#276419"
            ]
           ],
           "sequential": [
            [
             0,
             "#0d0887"
            ],
            [
             0.1111111111111111,
             "#46039f"
            ],
            [
             0.2222222222222222,
             "#7201a8"
            ],
            [
             0.3333333333333333,
             "#9c179e"
            ],
            [
             0.4444444444444444,
             "#bd3786"
            ],
            [
             0.5555555555555556,
             "#d8576b"
            ],
            [
             0.6666666666666666,
             "#ed7953"
            ],
            [
             0.7777777777777778,
             "#fb9f3a"
            ],
            [
             0.8888888888888888,
             "#fdca26"
            ],
            [
             1,
             "#f0f921"
            ]
           ],
           "sequentialminus": [
            [
             0,
             "#0d0887"
            ],
            [
             0.1111111111111111,
             "#46039f"
            ],
            [
             0.2222222222222222,
             "#7201a8"
            ],
            [
             0.3333333333333333,
             "#9c179e"
            ],
            [
             0.4444444444444444,
             "#bd3786"
            ],
            [
             0.5555555555555556,
             "#d8576b"
            ],
            [
             0.6666666666666666,
             "#ed7953"
            ],
            [
             0.7777777777777778,
             "#fb9f3a"
            ],
            [
             0.8888888888888888,
             "#fdca26"
            ],
            [
             1,
             "#f0f921"
            ]
           ]
          },
          "colorway": [
           "#636efa",
           "#EF553B",
           "#00cc96",
           "#ab63fa",
           "#FFA15A",
           "#19d3f3",
           "#FF6692",
           "#B6E880",
           "#FF97FF",
           "#FECB52"
          ],
          "font": {
           "color": "#2a3f5f"
          },
          "geo": {
           "bgcolor": "white",
           "lakecolor": "white",
           "landcolor": "#E5ECF6",
           "showlakes": true,
           "showland": true,
           "subunitcolor": "white"
          },
          "hoverlabel": {
           "align": "left"
          },
          "hovermode": "closest",
          "mapbox": {
           "style": "light"
          },
          "paper_bgcolor": "white",
          "plot_bgcolor": "#E5ECF6",
          "polar": {
           "angularaxis": {
            "gridcolor": "white",
            "linecolor": "white",
            "ticks": ""
           },
           "bgcolor": "#E5ECF6",
           "radialaxis": {
            "gridcolor": "white",
            "linecolor": "white",
            "ticks": ""
           }
          },
          "scene": {
           "xaxis": {
            "backgroundcolor": "#E5ECF6",
            "gridcolor": "white",
            "gridwidth": 2,
            "linecolor": "white",
            "showbackground": true,
            "ticks": "",
            "zerolinecolor": "white"
           },
           "yaxis": {
            "backgroundcolor": "#E5ECF6",
            "gridcolor": "white",
            "gridwidth": 2,
            "linecolor": "white",
            "showbackground": true,
            "ticks": "",
            "zerolinecolor": "white"
           },
           "zaxis": {
            "backgroundcolor": "#E5ECF6",
            "gridcolor": "white",
            "gridwidth": 2,
            "linecolor": "white",
            "showbackground": true,
            "ticks": "",
            "zerolinecolor": "white"
           }
          },
          "shapedefaults": {
           "line": {
            "color": "#2a3f5f"
           }
          },
          "ternary": {
           "aaxis": {
            "gridcolor": "white",
            "linecolor": "white",
            "ticks": ""
           },
           "baxis": {
            "gridcolor": "white",
            "linecolor": "white",
            "ticks": ""
           },
           "bgcolor": "#E5ECF6",
           "caxis": {
            "gridcolor": "white",
            "linecolor": "white",
            "ticks": ""
           }
          },
          "title": {
           "x": 0.05
          },
          "xaxis": {
           "automargin": true,
           "gridcolor": "white",
           "linecolor": "white",
           "ticks": "",
           "title": {
            "standoff": 15
           },
           "zerolinecolor": "white",
           "zerolinewidth": 2
          },
          "yaxis": {
           "automargin": true,
           "gridcolor": "white",
           "linecolor": "white",
           "ticks": "",
           "title": {
            "standoff": 15
           },
           "zerolinecolor": "white",
           "zerolinewidth": 2
          }
         }
        },
        "xaxis": {
         "showline": false,
         "title": {
          "text": "CP1"
         },
         "zerolinecolor": "gray"
        },
        "yaxis": {
         "showline": false,
         "title": {
          "text": "CP2"
         },
         "zerolinecolor": "gray"
        }
       }
      }
     },
     "metadata": {},
     "output_type": "display_data"
    }
   ],
   "source": [
    "results = []\n",
    "\n",
    "for name in ('jazz', 'opera', 'rap', 'reggae', 'rock'):\n",
    "    result = go.Scatter (x = Y[df_t[\"Genero\"]==name,0], y = Y[df_t[\"Genero\"]==name,1], \n",
    "    text = nombres[df_t[\"Genero\"]==name],\n",
    "    mode = \"markers\", name = name, marker = {\"size\":8, \"line\": {\"color\": \"rgba(225,225,225,0.2)\",\"width\": 0.5}}, opacity= 0.75)\n",
    "    results.append(result)\n",
    "\n",
    "layout = go.Layout(xaxis = {\"title\":'CP1', \"showline\" :False, \"zerolinecolor\" : \"gray\"}, yaxis = {\"title\" :'CP2', \"showline\" :False, \"zerolinecolor\" : \"gray\"})\n",
    "\n",
    "fig = go.Figure(data=results, layout=layout)\n",
    "fig.show()"
   ]
  },
  {
   "cell_type": "markdown",
   "metadata": {},
   "source": [
    "## Fin PCA"
   ]
  },
  {
   "cell_type": "code",
   "execution_count": 35,
   "metadata": {},
   "outputs": [],
   "source": [
    "# pca para representación solo, habría que analizar la varianza que explica si queremos usarla realmente \n",
    "# y comprobar con el AIC y BIC del modelo final para tomar una decisión.\n",
    "from sklearn.decomposition import PCA\n",
    "pca=PCA(n_components=2)\n",
    "x=pca.fit_transform(df_cluster)\n",
    "df_pca=pd.DataFrame(x,columns=['a','b'])\n",
    "df_pca['Genero']=df_t['Genero']\n",
    "df_pca['Genero_label']=df_t['Genero_label']"
   ]
  },
  {
   "cell_type": "code",
   "execution_count": 7,
   "metadata": {},
   "outputs": [],
   "source": [
    "# función para el metodo del codo y ver numero de clusters recomendados.\n",
    "\n",
    "import matplotlib.pyplot as plt\n",
    "from sklearn.cluster import KMeans\n",
    "def elbow_method(data, max_clusters=12):\n",
    "    sum_of_squared_distances = []\n",
    "    for k in range(1, max_clusters+1):\n",
    "        kmeans = KMeans(n_clusters=k)\n",
    "        kmeans.fit(data)\n",
    "        sum_of_squared_distances.append(kmeans.inertia_)\n",
    "    # Graficar la curva del codo\n",
    "    plt.plot(range(1, max_clusters+1), sum_of_squared_distances, 'bx-')\n",
    "    plt.xlabel('Número de Clusters (k)')\n",
    "    plt.ylabel('Suma de las Distancias al Cuadrado')\n",
    "    plt.title('Curva del Codo')\n",
    "    plt.show()"
   ]
  },
  {
   "cell_type": "code",
   "execution_count": 36,
   "metadata": {},
   "outputs": [
    {
     "name": "stderr",
     "output_type": "stream",
     "text": [
      "c:\\Users\\lmrio\\anaconda3\\Lib\\site-packages\\sklearn\\cluster\\_kmeans.py:870: FutureWarning: The default value of `n_init` will change from 10 to 'auto' in 1.4. Set the value of `n_init` explicitly to suppress the warning\n",
      "  warnings.warn(\n",
      "c:\\Users\\lmrio\\anaconda3\\Lib\\site-packages\\sklearn\\cluster\\_kmeans.py:1382: UserWarning: KMeans is known to have a memory leak on Windows with MKL, when there are less chunks than available threads. You can avoid it by setting the environment variable OMP_NUM_THREADS=1.\n",
      "  warnings.warn(\n",
      "c:\\Users\\lmrio\\anaconda3\\Lib\\site-packages\\sklearn\\cluster\\_kmeans.py:870: FutureWarning: The default value of `n_init` will change from 10 to 'auto' in 1.4. Set the value of `n_init` explicitly to suppress the warning\n",
      "  warnings.warn(\n",
      "c:\\Users\\lmrio\\anaconda3\\Lib\\site-packages\\sklearn\\cluster\\_kmeans.py:1382: UserWarning: KMeans is known to have a memory leak on Windows with MKL, when there are less chunks than available threads. You can avoid it by setting the environment variable OMP_NUM_THREADS=1.\n",
      "  warnings.warn(\n",
      "c:\\Users\\lmrio\\anaconda3\\Lib\\site-packages\\sklearn\\cluster\\_kmeans.py:870: FutureWarning: The default value of `n_init` will change from 10 to 'auto' in 1.4. Set the value of `n_init` explicitly to suppress the warning\n",
      "  warnings.warn(\n",
      "c:\\Users\\lmrio\\anaconda3\\Lib\\site-packages\\sklearn\\cluster\\_kmeans.py:1382: UserWarning: KMeans is known to have a memory leak on Windows with MKL, when there are less chunks than available threads. You can avoid it by setting the environment variable OMP_NUM_THREADS=1.\n",
      "  warnings.warn(\n",
      "c:\\Users\\lmrio\\anaconda3\\Lib\\site-packages\\sklearn\\cluster\\_kmeans.py:870: FutureWarning: The default value of `n_init` will change from 10 to 'auto' in 1.4. Set the value of `n_init` explicitly to suppress the warning\n",
      "  warnings.warn(\n",
      "c:\\Users\\lmrio\\anaconda3\\Lib\\site-packages\\sklearn\\cluster\\_kmeans.py:1382: UserWarning: KMeans is known to have a memory leak on Windows with MKL, when there are less chunks than available threads. You can avoid it by setting the environment variable OMP_NUM_THREADS=1.\n",
      "  warnings.warn(\n",
      "c:\\Users\\lmrio\\anaconda3\\Lib\\site-packages\\sklearn\\cluster\\_kmeans.py:870: FutureWarning: The default value of `n_init` will change from 10 to 'auto' in 1.4. Set the value of `n_init` explicitly to suppress the warning\n",
      "  warnings.warn(\n",
      "c:\\Users\\lmrio\\anaconda3\\Lib\\site-packages\\sklearn\\cluster\\_kmeans.py:1382: UserWarning: KMeans is known to have a memory leak on Windows with MKL, when there are less chunks than available threads. You can avoid it by setting the environment variable OMP_NUM_THREADS=1.\n",
      "  warnings.warn(\n",
      "c:\\Users\\lmrio\\anaconda3\\Lib\\site-packages\\sklearn\\cluster\\_kmeans.py:870: FutureWarning: The default value of `n_init` will change from 10 to 'auto' in 1.4. Set the value of `n_init` explicitly to suppress the warning\n",
      "  warnings.warn(\n",
      "c:\\Users\\lmrio\\anaconda3\\Lib\\site-packages\\sklearn\\cluster\\_kmeans.py:1382: UserWarning: KMeans is known to have a memory leak on Windows with MKL, when there are less chunks than available threads. You can avoid it by setting the environment variable OMP_NUM_THREADS=1.\n",
      "  warnings.warn(\n",
      "c:\\Users\\lmrio\\anaconda3\\Lib\\site-packages\\sklearn\\cluster\\_kmeans.py:870: FutureWarning: The default value of `n_init` will change from 10 to 'auto' in 1.4. Set the value of `n_init` explicitly to suppress the warning\n",
      "  warnings.warn(\n",
      "c:\\Users\\lmrio\\anaconda3\\Lib\\site-packages\\sklearn\\cluster\\_kmeans.py:1382: UserWarning: KMeans is known to have a memory leak on Windows with MKL, when there are less chunks than available threads. You can avoid it by setting the environment variable OMP_NUM_THREADS=1.\n",
      "  warnings.warn(\n",
      "c:\\Users\\lmrio\\anaconda3\\Lib\\site-packages\\sklearn\\cluster\\_kmeans.py:870: FutureWarning: The default value of `n_init` will change from 10 to 'auto' in 1.4. Set the value of `n_init` explicitly to suppress the warning\n",
      "  warnings.warn(\n",
      "c:\\Users\\lmrio\\anaconda3\\Lib\\site-packages\\sklearn\\cluster\\_kmeans.py:1382: UserWarning: KMeans is known to have a memory leak on Windows with MKL, when there are less chunks than available threads. You can avoid it by setting the environment variable OMP_NUM_THREADS=1.\n",
      "  warnings.warn(\n",
      "c:\\Users\\lmrio\\anaconda3\\Lib\\site-packages\\sklearn\\cluster\\_kmeans.py:870: FutureWarning: The default value of `n_init` will change from 10 to 'auto' in 1.4. Set the value of `n_init` explicitly to suppress the warning\n",
      "  warnings.warn(\n",
      "c:\\Users\\lmrio\\anaconda3\\Lib\\site-packages\\sklearn\\cluster\\_kmeans.py:1382: UserWarning: KMeans is known to have a memory leak on Windows with MKL, when there are less chunks than available threads. You can avoid it by setting the environment variable OMP_NUM_THREADS=1.\n",
      "  warnings.warn(\n",
      "c:\\Users\\lmrio\\anaconda3\\Lib\\site-packages\\sklearn\\cluster\\_kmeans.py:870: FutureWarning: The default value of `n_init` will change from 10 to 'auto' in 1.4. Set the value of `n_init` explicitly to suppress the warning\n",
      "  warnings.warn(\n",
      "c:\\Users\\lmrio\\anaconda3\\Lib\\site-packages\\sklearn\\cluster\\_kmeans.py:1382: UserWarning: KMeans is known to have a memory leak on Windows with MKL, when there are less chunks than available threads. You can avoid it by setting the environment variable OMP_NUM_THREADS=1.\n",
      "  warnings.warn(\n",
      "c:\\Users\\lmrio\\anaconda3\\Lib\\site-packages\\sklearn\\cluster\\_kmeans.py:870: FutureWarning: The default value of `n_init` will change from 10 to 'auto' in 1.4. Set the value of `n_init` explicitly to suppress the warning\n",
      "  warnings.warn(\n",
      "c:\\Users\\lmrio\\anaconda3\\Lib\\site-packages\\sklearn\\cluster\\_kmeans.py:1382: UserWarning: KMeans is known to have a memory leak on Windows with MKL, when there are less chunks than available threads. You can avoid it by setting the environment variable OMP_NUM_THREADS=1.\n",
      "  warnings.warn(\n",
      "c:\\Users\\lmrio\\anaconda3\\Lib\\site-packages\\sklearn\\cluster\\_kmeans.py:870: FutureWarning: The default value of `n_init` will change from 10 to 'auto' in 1.4. Set the value of `n_init` explicitly to suppress the warning\n",
      "  warnings.warn(\n",
      "c:\\Users\\lmrio\\anaconda3\\Lib\\site-packages\\sklearn\\cluster\\_kmeans.py:1382: UserWarning: KMeans is known to have a memory leak on Windows with MKL, when there are less chunks than available threads. You can avoid it by setting the environment variable OMP_NUM_THREADS=1.\n",
      "  warnings.warn(\n"
     ]
    },
    {
     "data": {
      "image/png": "[encoded data removed]",
      "text/plain": [
       "<Figure size 640x480 with 1 Axes>"
      ]
     },
     "metadata": {},
     "output_type": "display_data"
    }
   ],
   "source": [
    "# Usar df_cluster\n",
    "elbow_method(df_cluster)\n"
   ]
  },
  {
   "cell_type": "code",
   "execution_count": 37,
   "metadata": {},
   "outputs": [
    {
     "name": "stderr",
     "output_type": "stream",
     "text": [
      "c:\\Users\\lmrio\\anaconda3\\Lib\\site-packages\\sklearn\\cluster\\_kmeans.py:870: FutureWarning: The default value of `n_init` will change from 10 to 'auto' in 1.4. Set the value of `n_init` explicitly to suppress the warning\n",
      "  warnings.warn(\n",
      "c:\\Users\\lmrio\\anaconda3\\Lib\\site-packages\\sklearn\\cluster\\_kmeans.py:1382: UserWarning: KMeans is known to have a memory leak on Windows with MKL, when there are less chunks than available threads. You can avoid it by setting the environment variable OMP_NUM_THREADS=1.\n",
      "  warnings.warn(\n",
      "c:\\Users\\lmrio\\anaconda3\\Lib\\site-packages\\sklearn\\cluster\\_kmeans.py:870: FutureWarning: The default value of `n_init` will change from 10 to 'auto' in 1.4. Set the value of `n_init` explicitly to suppress the warning\n",
      "  warnings.warn(\n",
      "c:\\Users\\lmrio\\anaconda3\\Lib\\site-packages\\sklearn\\cluster\\_kmeans.py:1382: UserWarning: KMeans is known to have a memory leak on Windows with MKL, when there are less chunks than available threads. You can avoid it by setting the environment variable OMP_NUM_THREADS=1.\n",
      "  warnings.warn(\n",
      "c:\\Users\\lmrio\\anaconda3\\Lib\\site-packages\\sklearn\\cluster\\_kmeans.py:870: FutureWarning: The default value of `n_init` will change from 10 to 'auto' in 1.4. Set the value of `n_init` explicitly to suppress the warning\n",
      "  warnings.warn(\n",
      "c:\\Users\\lmrio\\anaconda3\\Lib\\site-packages\\sklearn\\cluster\\_kmeans.py:1382: UserWarning: KMeans is known to have a memory leak on Windows with MKL, when there are less chunks than available threads. You can avoid it by setting the environment variable OMP_NUM_THREADS=1.\n",
      "  warnings.warn(\n",
      "c:\\Users\\lmrio\\anaconda3\\Lib\\site-packages\\sklearn\\cluster\\_kmeans.py:870: FutureWarning: The default value of `n_init` will change from 10 to 'auto' in 1.4. Set the value of `n_init` explicitly to suppress the warning\n",
      "  warnings.warn(\n",
      "c:\\Users\\lmrio\\anaconda3\\Lib\\site-packages\\sklearn\\cluster\\_kmeans.py:1382: UserWarning: KMeans is known to have a memory leak on Windows with MKL, when there are less chunks than available threads. You can avoid it by setting the environment variable OMP_NUM_THREADS=1.\n",
      "  warnings.warn(\n",
      "c:\\Users\\lmrio\\anaconda3\\Lib\\site-packages\\sklearn\\cluster\\_kmeans.py:870: FutureWarning: The default value of `n_init` will change from 10 to 'auto' in 1.4. Set the value of `n_init` explicitly to suppress the warning\n",
      "  warnings.warn(\n",
      "c:\\Users\\lmrio\\anaconda3\\Lib\\site-packages\\sklearn\\cluster\\_kmeans.py:1382: UserWarning: KMeans is known to have a memory leak on Windows with MKL, when there are less chunks than available threads. You can avoid it by setting the environment variable OMP_NUM_THREADS=1.\n",
      "  warnings.warn(\n",
      "c:\\Users\\lmrio\\anaconda3\\Lib\\site-packages\\sklearn\\cluster\\_kmeans.py:870: FutureWarning: The default value of `n_init` will change from 10 to 'auto' in 1.4. Set the value of `n_init` explicitly to suppress the warning\n",
      "  warnings.warn(\n",
      "c:\\Users\\lmrio\\anaconda3\\Lib\\site-packages\\sklearn\\cluster\\_kmeans.py:1382: UserWarning: KMeans is known to have a memory leak on Windows with MKL, when there are less chunks than available threads. You can avoid it by setting the environment variable OMP_NUM_THREADS=1.\n",
      "  warnings.warn(\n",
      "c:\\Users\\lmrio\\anaconda3\\Lib\\site-packages\\sklearn\\cluster\\_kmeans.py:870: FutureWarning: The default value of `n_init` will change from 10 to 'auto' in 1.4. Set the value of `n_init` explicitly to suppress the warning\n",
      "  warnings.warn(\n",
      "c:\\Users\\lmrio\\anaconda3\\Lib\\site-packages\\sklearn\\cluster\\_kmeans.py:1382: UserWarning: KMeans is known to have a memory leak on Windows with MKL, when there are less chunks than available threads. You can avoid it by setting the environment variable OMP_NUM_THREADS=1.\n",
      "  warnings.warn(\n",
      "c:\\Users\\lmrio\\anaconda3\\Lib\\site-packages\\sklearn\\cluster\\_kmeans.py:870: FutureWarning: The default value of `n_init` will change from 10 to 'auto' in 1.4. Set the value of `n_init` explicitly to suppress the warning\n",
      "  warnings.warn(\n",
      "c:\\Users\\lmrio\\anaconda3\\Lib\\site-packages\\sklearn\\cluster\\_kmeans.py:1382: UserWarning: KMeans is known to have a memory leak on Windows with MKL, when there are less chunks than available threads. You can avoid it by setting the environment variable OMP_NUM_THREADS=1.\n",
      "  warnings.warn(\n"
     ]
    },
    {
     "data": {
      "image/png": "[encoded data removed]",
      "text/plain": [
       "<Figure size 640x480 with 1 Axes>"
      ]
     },
     "metadata": {},
     "output_type": "display_data"
    }
   ],
   "source": [
    "#script para representar coeficiente de silueta y de davies para ver numero de clusters\n",
    "# Usar df_cluster\n",
    "from sklearn.metrics import davies_bouldin_score, silhouette_score\n",
    " \n",
    "\n",
    "silhouette_coefficients = []\n",
    "davies_bouldin_scores = []\n",
    "# Notice we start at 2 clusters for silhouette coefficient\n",
    "for k in range(2,10):\n",
    "    kmeans = KMeans(n_clusters=k)\n",
    "    kmeans.fit(df_cluster)\n",
    "    sil_score = silhouette_score(df_cluster, kmeans.labels_)\n",
    "    silhouette_coefficients.append(sil_score)\n",
    "    db_score = davies_bouldin_score(df_cluster, kmeans.labels_)\n",
    "    davies_bouldin_scores.append(db_score)\n",
    " \n",
    "\n",
    "plt.style.use(\"fivethirtyeight\")\n",
    "plt.plot(range(2, 10), davies_bouldin_scores, color='red', label = 'davies boulding index')\n",
    "plt.plot(range(2, 10), silhouette_coefficients, color='blue', label = 'Silhouette score')\n",
    "plt.xticks(range(2, 10))\n",
    "\n",
    "plt.xlabel(\"Number of Clusters\")\n",
    "plt.ylabel(\"Score/Index\")\n",
    "plt.legend()\n",
    "plt.show()"
   ]
  },
  {
   "cell_type": "code",
   "execution_count": 39,
   "metadata": {},
   "outputs": [
    {
     "name": "stderr",
     "output_type": "stream",
     "text": [
      "c:\\Users\\lmrio\\anaconda3\\Lib\\site-packages\\sklearn\\cluster\\_kmeans.py:870: FutureWarning: The default value of `n_init` will change from 10 to 'auto' in 1.4. Set the value of `n_init` explicitly to suppress the warning\n",
      "  warnings.warn(\n",
      "c:\\Users\\lmrio\\anaconda3\\Lib\\site-packages\\sklearn\\cluster\\_kmeans.py:1382: UserWarning: KMeans is known to have a memory leak on Windows with MKL, when there are less chunks than available threads. You can avoid it by setting the environment variable OMP_NUM_THREADS=1.\n",
      "  warnings.warn(\n"
     ]
    }
   ],
   "source": [
    "# Cluster Kmeans\n",
    "kmeans = KMeans(n_clusters=5, random_state=0).fit(df_cluster)\n",
    "#df_t['Cluster_label']=kmeans.labels_\n",
    "df_pca['Cluster_label']=kmeans.labels_\n"
   ]
  },
  {
   "cell_type": "code",
   "execution_count": 40,
   "metadata": {},
   "outputs": [
    {
     "data": {
      "text/plain": [
       "<seaborn.axisgrid.FacetGrid at 0x25620897290>"
      ]
     },
     "execution_count": 40,
     "metadata": {},
     "output_type": "execute_result"
    },
    {
     "data": {
      "text/plain": [
       "<Figure size 800x500 with 0 Axes>"
      ]
     },
     "metadata": {},
     "output_type": "display_data"
    },
    {
     "data": {
      "image/png": "[encoded data removed]",
      "text/plain": [
       "<Figure size 657.486x500 with 1 Axes>"
      ]
     },
     "metadata": {},
     "output_type": "display_data"
    }
   ],
   "source": [
    "#representación perra clusters\n",
    "import seaborn as sns\n",
    "plt.figure(figsize=(8, 5))\n",
    "sns.relplot(data=df_pca, x='a', y='b', hue='Cluster_label', style='Genero', palette=\"tab10\",s =100)\n"
   ]
  },
  {
   "cell_type": "code",
   "execution_count": 41,
   "metadata": {},
   "outputs": [
    {
     "data": {
      "text/plain": [
       "<BarContainer object of 27 artists>"
      ]
     },
     "execution_count": 41,
     "metadata": {},
     "output_type": "execute_result"
    },
    {
     "data": {
      "image/png": "[encoded data removed]",
      "text/plain": [
       "<Figure size 1000x1500 with 1 Axes>"
      ]
     },
     "metadata": {},
     "output_type": "display_data"
    }
   ],
   "source": [
    "#Modelo Random Forest e importancia de las variables.\n",
    "from sklearn.ensemble import RandomForestClassifier\n",
    "reg=RandomForestClassifier()\n",
    "reg.fit(X = X_train, y = y_train)\n",
    "plt.figure(figsize = (10,15))\n",
    "plt.barh(reg.feature_names_in_,reg.feature_importances_)"
   ]
  },
  {
   "cell_type": "code",
   "execution_count": 44,
   "metadata": {},
   "outputs": [
    {
     "data": {
      "text/plain": [
       "array([[0.55, 0.27, 0.04, 0.07, 0.07],\n",
       "       [0.05, 0.07, 0.29, 0.06, 0.53],\n",
       "       [0.09, 0.06, 0.11, 0.7 , 0.04],\n",
       "       [0.17, 0.51, 0.06, 0.26, 0.  ],\n",
       "       [0.21, 0.29, 0.16, 0.13, 0.21],\n",
       "       [0.56, 0.23, 0.05, 0.13, 0.03],\n",
       "       [0.03, 0.08, 0.36, 0.47, 0.06],\n",
       "       [0.14, 0.02, 0.26, 0.54, 0.04]])"
      ]
     },
     "execution_count": 44,
     "metadata": {},
     "output_type": "execute_result"
    }
   ],
   "source": [
    "# Evaluacion conjunto de test modelo Random\n",
    "pred=reg.predict(X_test)\n",
    "from sklearn.metrics import accuracy_score\n",
    "accuracy_score(pred,y_test)\n"
   ]
  },
  {
   "cell_type": "code",
   "execution_count": 49,
   "metadata": {},
   "outputs": [
    {
     "data": {
      "text/plain": [
       "(array([4, 3, 4, 1, 0, 4, 2, 2]),\n",
       " 3     0\n",
       " 39    4\n",
       " 25    3\n",
       " 8     1\n",
       " 32    4\n",
       " 1     0\n",
       " 19    2\n",
       " 17    2\n",
       " Name: Genero_label, dtype: int64)"
      ]
     },
     "execution_count": 49,
     "metadata": {},
     "output_type": "execute_result"
    }
   ],
   "source": [
    "reg.predict_proba(X_test)\n",
    "pred,y_test"
   ]
  },
  {
   "cell_type": "code",
   "execution_count": 79,
   "metadata": {},
   "outputs": [
    {
     "name": "stderr",
     "output_type": "stream",
     "text": [
      "c:\\Users\\lmrio\\anaconda3\\Lib\\site-packages\\sklearn\\cluster\\_kmeans.py:870: FutureWarning: The default value of `n_init` will change from 10 to 'auto' in 1.4. Set the value of `n_init` explicitly to suppress the warning\n",
      "  warnings.warn(\n",
      "c:\\Users\\lmrio\\anaconda3\\Lib\\site-packages\\sklearn\\cluster\\_kmeans.py:1382: UserWarning: KMeans is known to have a memory leak on Windows with MKL, when there are less chunks than available threads. You can avoid it by setting the environment variable OMP_NUM_THREADS=1.\n",
      "  warnings.warn(\n"
     ]
    }
   ],
   "source": [
    "# Modelo Kmeans\n",
    "kmeans = KMeans(n_clusters=5, random_state=0).fit(X_train)\n",
    "pred=kmeans.predict(X_test)\n",
    "\n"
   ]
  },
  {
   "cell_type": "code",
   "execution_count": 69,
   "metadata": {},
   "outputs": [],
   "source": [
    "#Cluster Jerarquico Aglomerativo\n",
    "\n",
    "from sklearn.cluster import AgglomerativeClustering\n",
    "\n",
    "clustering = AgglomerativeClustering(n_clusters=None,distance_threshold=0).fit(df_cluster)\n"
   ]
  },
  {
   "cell_type": "code",
   "execution_count": 78,
   "metadata": {},
   "outputs": [
    {
     "data": {
      "image/png": "[encoded data removed]",
      "text/plain": [
       "<Figure size 640x480 with 1 Axes>"
      ]
     },
     "metadata": {},
     "output_type": "display_data"
    }
   ],
   "source": [
    "import numpy as np\n",
    "from matplotlib import pyplot as plt\n",
    "from scipy.cluster.hierarchy import dendrogram\n",
    "\n",
    "from sklearn.cluster import AgglomerativeClustering\n",
    "from sklearn.datasets import load_iris\n",
    "\n",
    "\n",
    "def plot_dendrogram(model, **kwargs):\n",
    "    # Create linkage matrix and then plot the dendrogram\n",
    "\n",
    "    # create the counts of samples under each node\n",
    "    counts = np.zeros(model.children_.shape[0])\n",
    "    n_samples = len(model.labels_)\n",
    "    for i, merge in enumerate(model.children_):\n",
    "        current_count = 0\n",
    "        for child_idx in merge:\n",
    "            if child_idx < n_samples:\n",
    "                current_count += 1  # leaf node\n",
    "            else:\n",
    "                current_count += counts[child_idx - n_samples]\n",
    "        counts[i] = current_count\n",
    "\n",
    "    linkage_matrix = np.column_stack(\n",
    "        [model.children_, model.distances_, counts]\n",
    "    ).astype(float)\n",
    "\n",
    "    # Plot the corresponding dendrogram\n",
    "    dendrogram(linkage_matrix, **kwargs)\n",
    "\n",
    "\n",
    "# setting distance_threshold=0 ensures we compute the full tree.\n",
    "plt.title(\"Hierarchical Clustering Dendrogram\")\n",
    "# plot the top three levels of the dendrogram\n",
    "plot_dendrogram(clustering, truncate_mode=\"level\", p=2)\n",
    "plt.xlabel(\"Number of points in node (or index of point if no parenthesis).\")\n",
    "plt.show()"
   ]
  }
 ],
 "metadata": {
  "kernelspec": {
   "display_name": "MCD_23_24",
   "language": "python",
   "name": "python3"
  },
  "language_info": {
   "codemirror_mode": {
    "name": "ipython",
    "version": 3
   },
   "file_extension": ".py",
   "mimetype": "text/x-python",
   "name": "python",
   "nbconvert_exporter": "python",
   "pygments_lexer": "ipython3",
   "version": "3.11.3"
  }
 },
 "nbformat": 4,
 "nbformat_minor": 2
}
